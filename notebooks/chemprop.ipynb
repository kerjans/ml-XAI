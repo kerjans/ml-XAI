{
 "cells": [
  {
   "cell_type": "code",
   "execution_count": 1,
   "id": "f34f4b86",
   "metadata": {},
   "outputs": [],
   "source": [
    "import sys\n",
    "sys.path.append(\"/Users/kerrinjanssen/Nextcloud/PhD/Bayer/XAI/ml-xai\")\n",
    "\n",
    "from WISP.WISP import *"
   ]
  },
  {
   "cell_type": "markdown",
   "id": "03d03a1d",
   "metadata": {},
   "source": [
    "# Make it deterministic"
   ]
  },
  {
   "cell_type": "code",
   "execution_count": 2,
   "id": "9fc0ca9b",
   "metadata": {},
   "outputs": [],
   "source": [
    "data = pd.read_csv('/Users/kerrinjanssen/Nextcloud/PhD/Bayer/XAI/test-GNN/delaney-processed-Nr.csv')\n",
    "\n",
    "Smiles_Column_Name = \"smiles\"\n",
    "Target_Column_Name = 'measured log solubility in mols per litre'\n",
    "ID_Column_Name = 'Nr'\n",
    "working_dir = '/Users/kerrinjanssen/Nextcloud/PhD/Bayer/XAI/test-GNN/'\n",
    "task_type = 'regression'\n",
    "\n",
    "with suppress_output():\n",
    "    std = Standardizer(max_num_atoms=1000,#tipp jan: 100\n",
    "                max_num_tautomers=10,\n",
    "                include_stereoinfo=False,\n",
    "                keep_largest_fragment=True, \n",
    "                canonicalize_tautomers=True, \n",
    "                normalize=True, \n",
    "                sanitize_mol=True)\n",
    "data[\"smiles_std\"] = data[Smiles_Column_Name].apply(lambda smi: std(smi)[0]) \n",
    "data = filter_duplicates(data, 'smiles_std', Target_Column_Name)"
   ]
  },
  {
   "cell_type": "code",
   "execution_count": 3,
   "id": "bcbfae31",
   "metadata": {},
   "outputs": [],
   "source": [
    "data, ALLfeatureCOLUMS, model_types = features_and_reg_model_types(data)\n",
    "test, target_test, train = split_data(data, Target_Column_Name, working_dir)"
   ]
  },
  {
   "cell_type": "code",
   "execution_count": 4,
   "id": "481c6d11",
   "metadata": {},
   "outputs": [],
   "source": [
    "import chemprop\n",
    "import random\n",
    "\n",
    "import pandas as pd\n",
    "import matplotlib.pyplot as plt\n",
    "from lightning import pytorch as pl\n",
    "from pathlib import Path\n",
    "\n",
    "from lightning.pytorch import seed_everything\n",
    "\n",
    "from chemprop import data as chempropdata############################\n",
    "from chemprop import featurizers, models, nn\n",
    "from chemprop.nn import metrics\n",
    "from chemprop.models import multi\n",
    "\n",
    "from sklearn.preprocessing import StandardScaler\n",
    "from sklearn.metrics import mean_absolute_error, mean_squared_error\n",
    "\n",
    "import pdb\n",
    "import numpy as np\n",
    "\n",
    "from lightning.pytorch.callbacks import ModelCheckpoint\n",
    "\n",
    "import torch\n",
    "\n",
    "import os\n",
    "from glob import glob\n",
    "\n",
    "#to not get the output\n",
    "import logging\n",
    "logging.getLogger(\"lightning.pytorch\").setLevel(logging.ERROR)\n",
    "\n",
    "random.seed(6)\n",
    "np.random.seed(6)\n",
    "torch.manual_seed(6)\n",
    "torch.use_deterministic_algorithms(True)\n",
    "\n",
    "class SklChemprop:\n",
    "\n",
    "    def __init__(self,problem_type:str,max_epochs:int,Smiles_Column_Name:str, Target_Column_Name:str, working_dir:str):\n",
    "        # TODO: Hyperparameters should be passed here\n",
    "        self.problem_type = problem_type\n",
    "        self.max_epochs = max_epochs\n",
    "        self.Smiles_Column_Name = Smiles_Column_Name\n",
    "        self.Target_Column_Name = Target_Column_Name\n",
    "        self.working_dir = working_dir\n",
    "\n",
    "        self.mpnn = None\n",
    "        self._load_latest_checkpoint()\n",
    "\n",
    "    def _load_latest_checkpoint(self):\n",
    "        checkpoint_dir = self.working_dir + 'checkpoints/'\n",
    "        if not os.path.exists(checkpoint_dir):#skipps loading if there is no checkpoint dir\n",
    "            return\n",
    "        ckpt_files = glob(os.path.join(checkpoint_dir, 'best*.ckpt'))\n",
    "        if not ckpt_files:#skipps loading if there is no checkpoint file\n",
    "            return\n",
    "        # Get most recent checkpoint and set as self model\n",
    "        latest_ckpt = max(ckpt_files, key=os.path.getmtime)\n",
    "        self.mpnn = models.MPNN.load_from_checkpoint(latest_ckpt) \n",
    "\n",
    "    def fit(self,df_input:\"pd.Dataframe\"):\n",
    "        df_input.reset_index(inplace=True)\n",
    "        num_workers = 0 # number of workers for dataloader. 0 means using main process for data loading\n",
    "        smiles_column = self.Smiles_Column_Name # name of the column containing SMILES strings\n",
    "        target_columns = [self.Target_Column_Name] # list of names of the columns containing targets\n",
    "        smis = df_input.loc[:, smiles_column].values\n",
    "        ys = df_input.loc[:, target_columns].values\n",
    "        \n",
    "        all_data = [chempropdata.MoleculeDatapoint.from_smi(smi, y) for smi, y in zip(smis, ys)]\n",
    "        \n",
    "        #train validation split\n",
    "        nr_val_samples = round(len(df_input) / 5) # 80/20 split\n",
    "        val = df_input.sample(n=nr_val_samples, random_state=6)\n",
    "        train_set = df_input.drop(val.index)\n",
    "\n",
    "        # get the indices/data\n",
    "        train_indices = [train_set.index.tolist()]\n",
    "        val_indices = [val.index.tolist()]\n",
    "        train_data, val_data, _ = chempropdata.split_data_by_indices(all_data, train_indices, val_indices)\n",
    "\n",
    "        #preprocess data\n",
    "        featurizer = featurizers.SimpleMoleculeMolGraphFeaturizer()\n",
    "\n",
    "        train_dset = chempropdata.MoleculeDataset(train_data[0], featurizer)\n",
    "        scaler = train_dset.normalize_targets()\n",
    "        val_dset = chempropdata.MoleculeDataset(val_data[0], featurizer)\n",
    "        val_dset.normalize_targets(scaler)\n",
    "\n",
    "        train_loader = chempropdata.build_dataloader(train_dset, num_workers=num_workers, shuffle=False, seed=6)\n",
    "        val_loader = chempropdata.build_dataloader(val_dset, num_workers=num_workers, shuffle=False, seed=6)\n",
    "\n",
    "        mp = nn.BondMessagePassing()\n",
    "        agg = nn.MeanAggregation()\n",
    "\n",
    "        output_transform = nn.UnscaleTransform.from_standard_scaler(scaler)\n",
    "\n",
    "        ffn = nn.RegressionFFN(output_transform=output_transform)\n",
    "\n",
    "        batch_norm = True\n",
    "        metric_list = [metrics.MAE()]#[nn.metrics.RMSE(), nn.metrics.R2score()]\n",
    "\n",
    "        seed_everything(6, workers=True)\n",
    "        mpnn = models.MPNN(mp, agg, ffn, batch_norm, metric_list)\n",
    "\n",
    "        # Checkpointing\n",
    "        checkpointing = ModelCheckpoint(\n",
    "        self.working_dir + \"checkpoints\",  # Directory where model checkpoints will be saved\n",
    "        \"best-{epoch}-{val_loss:.2f}\",  # Filename format for checkpoints, including epoch and validation loss\n",
    "        \"val_loss\",  # Metric used to select the best checkpoint (based on validation loss)\n",
    "        mode=\"min\",  # Save the checkpoint with the lowest validation loss (minimization objective)\n",
    "        )\n",
    "\n",
    "        trainer = pl.Trainer(\n",
    "            logger=False,\n",
    "            enable_checkpointing=True, # Use `True` if you want to save model checkpoints. The checkpoints will be saved in the `checkpoints` folder.\n",
    "            enable_progress_bar=False,\n",
    "            accelerator=\"cpu\",\n",
    "            devices=1,\n",
    "            max_epochs=self.max_epochs, # number of epochs to train for\n",
    "            callbacks=[checkpointing], # Use the configured checkpoint callback\n",
    "            deterministic=True,\n",
    "        )\n",
    "        print(trainer)\n",
    "        trainer.fit(mpnn, train_loader, val_loader)\n",
    "        self._load_latest_checkpoint()\n",
    "\n",
    "    \n",
    "    def predict(self, smiles):#df_input:\"pd.Dataframe\"\n",
    "        num_workers = 0 # number of workers for dataloader. 0 means using main process for data loading\n",
    "        #smiles_column = self.Smiles_Column_Name # name of the column containing SMILES strings\n",
    "        #smis = df_input.loc[:, smiles_column].values\n",
    "        smis = [smi for sublist in smiles for smi in sublist]\n",
    "        \n",
    "        all_data = [chempropdata.MoleculeDatapoint.from_smi(smi) for smi in smis]\n",
    "\n",
    "        #preprocess data\n",
    "        featurizer = featurizers.SimpleMoleculeMolGraphFeaturizer()\n",
    "        test_dset = chempropdata.MoleculeDataset(all_data, featurizer)\n",
    "        test_loader = chempropdata.build_dataloader(test_dset, num_workers=num_workers, shuffle=False, seed=6)\n",
    "\n",
    "        #loader etc from previous\n",
    "        with torch.inference_mode():\n",
    "            trainer = pl.Trainer(\n",
    "                logger=False,\n",
    "                enable_progress_bar=False,\n",
    "                accelerator=\"cpu\",\n",
    "                devices=1,\n",
    "                deterministic=True\n",
    "            )\n",
    "            test_preds = trainer.predict(self.mpnn, test_loader)\n",
    "        test_preds = np.concatenate(test_preds, axis=0)\n",
    "\n",
    "        return test_preds\n",
    "    \n",
    "def get_features(data, CLOUMS):\n",
    "    \"\"\"\n",
    "    Preprocesses the features according to theyr type.\n",
    "\n",
    "    Keyword arguments:\n",
    "    -- data: Table where the features are stored.\n",
    "    -- CLOUMS: Colum where the feature is stored.\n",
    "\n",
    "    Returns:\n",
    "    -- X: Preprocessed feature.\n",
    "    \"\"\"\n",
    "    features = []\n",
    "\n",
    "    for i in CLOUMS:\n",
    "        if type(data[i].values[0]) is np.ndarray:\n",
    "            x = np.stack(data[i].values)\n",
    "        else:\n",
    "            x = data[i].values.reshape(-1, 1)\n",
    "        features.append(x)\n",
    "\n",
    "    X = np.concatenate(features, axis=1)\n",
    "    return X\n",
    "    \n",
    "def train_GNN(train, Smiles_Column_Name, Target_Column_Name, working_dir):\n",
    "    model_GNN = SklChemprop(problem_type=\"regression\", max_epochs=20, Smiles_Column_Name=Smiles_Column_Name, Target_Column_Name=Target_Column_Name, working_dir=working_dir)\n",
    "    model_GNN.fit(train)\n",
    "    \n",
    "    prep_smiles = get_features(train, [Smiles_Column_Name])\n",
    "\n",
    "    model_GNN = SklChemprop(problem_type=\"regression\", max_epochs=20, Smiles_Column_Name=Smiles_Column_Name, Target_Column_Name=Target_Column_Name, working_dir=working_dir)\n",
    "    predictions = model_GNN.predict(prep_smiles)\n",
    "    target = train[Target_Column_Name].values\n",
    "\n",
    "    r2 = np.corrcoef(target.flatten(), predictions.flatten())[0,1]**2\n",
    "    RMSE_z = np.sqrt(np.mean((target.flatten() - predictions.flatten())**2))\n",
    "    RMSE_n = np.sqrt(np.mean((target.flatten() - np.mean(target.flatten()))**2))\n",
    "    R2 = 1 - RMSE_z**2/RMSE_n**2\n",
    "    MAE = mean_absolute_error(target.flatten(), predictions.flatten())\n",
    "    mse = mean_squared_error(target.flatten(), predictions.flatten())\n",
    "    rmse = np.sqrt(mse)\n",
    "\n",
    "    return r2, R2, MAE, rmse\n",
    "\n",
    "def identity(x):\n",
    "    return x"
   ]
  },
  {
   "cell_type": "code",
   "execution_count": 5,
   "id": "3302f885",
   "metadata": {},
   "outputs": [
    {
     "name": "stderr",
     "output_type": "stream",
     "text": [
      "Seed set to 6\n"
     ]
    },
    {
     "name": "stdout",
     "output_type": "stream",
     "text": [
      "<lightning.pytorch.trainer.trainer.Trainer object at 0x1069f8810>\n",
      "[{'Feature': 'smiles_std', 'Model_Type': 'SklChemprop', 'Model': <__main__.SklChemprop object at 0x316220c10>, 'r2': 0.9385264854849089, 'R2': 0.9378934377527203, 'MAE': 0.38843027861357543, 'RMSE': 0.5156884433594188}]\n"
     ]
    }
   ],
   "source": [
    "random.seed(6)\n",
    "np.random.seed(6)\n",
    "torch.manual_seed(6)\n",
    "torch.use_deterministic_algorithms(True)\n",
    "\n",
    "use_GNN = True\n",
    "#model, feature_function, featureCOLUMS  = get_best_reg_model(model_types, ALLfeatureCOLUMS, train, Target_Column_Name, working_dir, use_GNN)\n",
    "\n",
    "results = []\n",
    "\n",
    "if use_GNN is True:\n",
    "    checkpoint_dir = working_dir + 'checkpoints/' \n",
    "    if os.path.exists(checkpoint_dir) and os.path.isdir(checkpoint_dir):\n",
    "        shutil.rmtree(checkpoint_dir) #deletes old checkpoint dir\n",
    "    if 'level_0' in train.columns:\n",
    "        train.drop(columns=['level_0'], inplace=True)\n",
    "    r2, R2, MAE, RMSE = train_GNN(train, 'smiles_std', Target_Column_Name, working_dir)#############################\n",
    "    model_GNN = SklChemprop(problem_type=\"regression\", max_epochs=20, Smiles_Column_Name='smiled_std', Target_Column_Name=Target_Column_Name, working_dir=working_dir)##################\n",
    "    results.append({'Feature': 'smiles_std','Model_Type': 'SklChemprop','Model': model_GNN,'r2': r2,'R2': R2,'MAE': MAE,'RMSE': RMSE})##################\n",
    "print(results)"
   ]
  },
  {
   "cell_type": "code",
   "execution_count": 8,
   "id": "2e5e6eb9",
   "metadata": {},
   "outputs": [
    {
     "name": "stderr",
     "output_type": "stream",
     "text": [
      "Seed set to 6\n"
     ]
    },
    {
     "name": "stdout",
     "output_type": "stream",
     "text": [
      "<lightning.pytorch.trainer.trainer.Trainer object at 0x31678ae50>\n",
      "[{'Feature': 'smiles_std', 'Model_Type': 'SklChemprop', 'Model': <__main__.SklChemprop object at 0x31484e350>, 'r2': 0.9385264854849089, 'R2': 0.9378934377527203, 'MAE': 0.38843027861357543, 'RMSE': 0.5156884433594188}]\n"
     ]
    }
   ],
   "source": [
    "#random.seed(6)\n",
    "#np.random.seed(6)\n",
    "torch.manual_seed(6)\n",
    "#torch.use_deterministic_algorithms(True)\n",
    "\n",
    "use_GNN = True\n",
    "results = []\n",
    "\n",
    "if use_GNN is True:\n",
    "    checkpoint_dir = working_dir + 'checkpoints/' \n",
    "    if os.path.exists(checkpoint_dir) and os.path.isdir(checkpoint_dir):\n",
    "        shutil.rmtree(checkpoint_dir) #deletes old checkpoint dir\n",
    "    if 'level_0' in train.columns:\n",
    "        train.drop(columns=['level_0'], inplace=True)\n",
    "    r2, R2, MAE, RMSE = train_GNN(train, 'smiles_std', Target_Column_Name, working_dir)#############################\n",
    "    model_GNN = SklChemprop(problem_type=\"regression\", max_epochs=20, Smiles_Column_Name='smiled_std', Target_Column_Name=Target_Column_Name, working_dir=working_dir)##################\n",
    "    results.append({'Feature': 'smiles_std','Model_Type': 'SklChemprop','Model': model_GNN,'r2': r2,'R2': R2,'MAE': MAE,'RMSE': RMSE})##################\n",
    "print(results)"
   ]
  },
  {
   "cell_type": "code",
   "execution_count": 102,
   "id": "099d4436",
   "metadata": {},
   "outputs": [],
   "source": [
    "result_subtract = pred1 - pred2"
   ]
  },
  {
   "cell_type": "code",
   "execution_count": 103,
   "id": "4f275786",
   "metadata": {},
   "outputs": [],
   "source": [
    "for i in result_subtract:\n",
    "    if i != 0:\n",
    "        print(i)"
   ]
  },
  {
   "cell_type": "markdown",
   "id": "c46e8dc9",
   "metadata": {},
   "source": [
    "# Make it fit for WISP"
   ]
  },
  {
   "cell_type": "code",
   "execution_count": 32,
   "id": "960ab7f3",
   "metadata": {},
   "outputs": [
    {
     "name": "stderr",
     "output_type": "stream",
     "text": [
      "[14:41:26] Initializing MetalDisconnector\n",
      "[14:41:26] Running MetalDisconnector\n",
      "[14:41:26] Initializing Normalizer\n",
      "[14:41:26] Running Normalizer\n",
      "[14:41:26] Running LargestFragmentChooser\n",
      "[14:41:26] Running Uncharger\n",
      "[14:41:26] Initializing MetalDisconnector\n",
      "[14:41:26] Running MetalDisconnector\n",
      "[14:41:26] Initializing Normalizer\n",
      "[14:41:26] Running Normalizer\n",
      "[14:41:26] Initializing MetalDisconnector\n",
      "[14:41:26] Running MetalDisconnector\n",
      "[14:41:26] Initializing MetalDisconnector\n",
      "[14:41:26] Running MetalDisconnector\n",
      "[14:41:26] Initializing Normalizer\n",
      "[14:41:26] Running Normalizer\n",
      "[14:41:26] Running LargestFragmentChooser\n",
      "[14:41:26] Running Uncharger\n",
      "[14:41:26] Initializing MetalDisconnector\n",
      "[14:41:26] Running MetalDisconnector\n",
      "[14:41:26] Initializing Normalizer\n",
      "[14:41:26] Running Normalizer\n",
      "[14:41:26] Initializing Normalizer\n",
      "[14:41:26] Running Normalizer\n",
      "[14:41:26] Initializing MetalDisconnector\n",
      "[14:41:26] Running MetalDisconnector\n",
      "[14:41:26] Initializing Normalizer\n",
      "[14:41:26] Running Normalizer\n",
      "[14:41:26] Running LargestFragmentChooser\n",
      "[14:41:26] Running Uncharger\n",
      "[14:41:26] Initializing MetalDisconnector\n",
      "[14:41:26] Running MetalDisconnector\n",
      "[14:41:26] Initializing Normalizer\n",
      "[14:41:26] Running Normalizer\n",
      "[14:41:26] Initializing MetalDisconnector\n",
      "[14:41:26] Running MetalDisconnector\n",
      "[14:41:26] Initializing MetalDisconnector\n",
      "[14:41:26] Running MetalDisconnector\n",
      "[14:41:26] Initializing Normalizer\n",
      "[14:41:26] Running Normalizer\n",
      "[14:41:26] Running LargestFragmentChooser\n",
      "[14:41:26] Running Uncharger\n",
      "[14:41:26] Initializing MetalDisconnector\n",
      "[14:41:26] Running MetalDisconnector\n",
      "[14:41:26] Initializing Normalizer\n",
      "[14:41:26] Running Normalizer\n",
      "[14:41:26] Initializing Normalizer\n",
      "[14:41:26] Running Normalizer\n",
      "[14:41:26] Initializing MetalDisconnector\n",
      "[14:41:26] Running MetalDisconnector\n",
      "[14:41:26] Initializing Normalizer\n",
      "[14:41:26] Running Normalizer\n",
      "[14:41:26] Running LargestFragmentChooser\n",
      "[14:41:26] Running Uncharger\n",
      "[14:41:26] Initializing MetalDisconnector\n",
      "[14:41:26] Running MetalDisconnector\n",
      "[14:41:26] Initializing Normalizer\n",
      "[14:41:26] Running Normalizer\n",
      "[14:41:26] Initializing MetalDisconnector\n",
      "[14:41:26] Running MetalDisconnector\n",
      "[14:41:26] Initializing MetalDisconnector\n",
      "[14:41:26] Running MetalDisconnector\n",
      "[14:41:26] Initializing Normalizer\n",
      "[14:41:26] Running Normalizer\n",
      "[14:41:26] Running LargestFragmentChooser\n",
      "[14:41:26] Running Uncharger\n",
      "[14:41:26] Initializing MetalDisconnector\n",
      "[14:41:26] Running MetalDisconnector\n",
      "[14:41:26] Initializing Normalizer\n",
      "[14:41:26] Running Normalizer\n",
      "[14:41:26] Initializing Normalizer\n",
      "[14:41:26] Running Normalizer\n",
      "[14:41:26] Initializing MetalDisconnector\n",
      "[14:41:26] Running MetalDisconnector\n",
      "[14:41:26] Initializing Normalizer\n",
      "[14:41:26] Running Normalizer\n",
      "[14:41:26] Running LargestFragmentChooser\n",
      "[14:41:26] Running Uncharger\n",
      "[14:41:26] Initializing MetalDisconnector\n",
      "[14:41:26] Running MetalDisconnector\n",
      "[14:41:26] Initializing Normalizer\n",
      "[14:41:26] Running Normalizer\n",
      "[14:41:26] Initializing MetalDisconnector\n",
      "[14:41:26] Running MetalDisconnector\n",
      "[14:41:26] Initializing MetalDisconnector\n",
      "[14:41:26] Running MetalDisconnector\n",
      "[14:41:26] Initializing Normalizer\n",
      "[14:41:26] Running Normalizer\n",
      "[14:41:26] Running LargestFragmentChooser\n",
      "[14:41:26] Running Uncharger\n",
      "[14:41:26] Initializing MetalDisconnector\n",
      "[14:41:26] Running MetalDisconnector\n",
      "[14:41:26] Initializing Normalizer\n",
      "[14:41:26] Running Normalizer\n",
      "[14:41:26] Initializing Normalizer\n",
      "[14:41:26] Running Normalizer\n",
      "[14:41:26] Initializing MetalDisconnector\n",
      "[14:41:26] Running MetalDisconnector\n",
      "[14:41:26] Initializing Normalizer\n",
      "[14:41:26] Running Normalizer\n",
      "[14:41:26] Running LargestFragmentChooser\n",
      "[14:41:26] Running Uncharger\n",
      "[14:41:26] Initializing MetalDisconnector\n",
      "[14:41:26] Running MetalDisconnector\n",
      "[14:41:26] Initializing Normalizer\n",
      "[14:41:26] Running Normalizer\n",
      "[14:41:26] Initializing MetalDisconnector\n",
      "[14:41:26] Running MetalDisconnector\n",
      "[14:41:26] Initializing MetalDisconnector\n",
      "[14:41:26] Running MetalDisconnector\n",
      "[14:41:26] Initializing Normalizer\n",
      "[14:41:26] Running Normalizer\n",
      "[14:41:26] Running LargestFragmentChooser\n",
      "[14:41:26] Running Uncharger\n",
      "[14:41:26] Initializing MetalDisconnector\n",
      "[14:41:26] Running MetalDisconnector\n",
      "[14:41:26] Initializing Normalizer\n",
      "[14:41:26] Running Normalizer\n",
      "[14:41:26] Initializing Normalizer\n",
      "[14:41:26] Running Normalizer\n",
      "[14:41:26] Initializing MetalDisconnector\n",
      "[14:41:26] Running MetalDisconnector\n",
      "[14:41:26] Initializing Normalizer\n",
      "[14:41:26] Running Normalizer\n",
      "[14:41:26] Running LargestFragmentChooser\n",
      "[14:41:26] Running Uncharger\n",
      "[14:41:26] Initializing MetalDisconnector\n",
      "[14:41:26] Running MetalDisconnector\n",
      "[14:41:26] Initializing Normalizer\n",
      "[14:41:26] Running Normalizer\n",
      "[14:41:26] Initializing MetalDisconnector\n",
      "[14:41:26] Running MetalDisconnector\n",
      "[14:41:26] Initializing MetalDisconnector\n",
      "[14:41:26] Running MetalDisconnector\n",
      "[14:41:26] Initializing Normalizer\n",
      "[14:41:26] Running Normalizer\n",
      "[14:41:26] Running LargestFragmentChooser\n",
      "[14:41:26] Running Uncharger\n",
      "[14:41:26] Initializing MetalDisconnector\n",
      "[14:41:26] Running MetalDisconnector\n",
      "[14:41:26] Initializing Normalizer\n",
      "[14:41:26] Running Normalizer\n",
      "[14:41:26] Initializing Normalizer\n",
      "[14:41:26] Running Normalizer\n",
      "[14:41:26] Initializing MetalDisconnector\n",
      "[14:41:26] Running MetalDisconnector\n",
      "[14:41:26] Initializing Normalizer\n",
      "[14:41:26] Running Normalizer\n",
      "[14:41:26] Running LargestFragmentChooser\n",
      "[14:41:26] Running Uncharger\n",
      "[14:41:26] Initializing MetalDisconnector\n",
      "[14:41:26] Running MetalDisconnector\n",
      "[14:41:26] Initializing Normalizer\n",
      "[14:41:26] Running Normalizer\n",
      "[14:41:26] Initializing MetalDisconnector\n",
      "[14:41:26] Running MetalDisconnector\n",
      "[14:41:26] Initializing MetalDisconnector\n",
      "[14:41:26] Running MetalDisconnector\n",
      "[14:41:26] Initializing Normalizer\n",
      "[14:41:26] Running Normalizer\n",
      "[14:41:26] Running LargestFragmentChooser\n",
      "[14:41:26] Running Uncharger\n",
      "[14:41:26] Initializing MetalDisconnector\n",
      "[14:41:26] Running MetalDisconnector\n",
      "[14:41:26] Initializing Normalizer\n",
      "[14:41:26] Running Normalizer\n",
      "[14:41:26] Initializing Normalizer\n",
      "[14:41:26] Running Normalizer\n",
      "[14:41:26] Initializing MetalDisconnector\n",
      "[14:41:26] Running MetalDisconnector\n",
      "[14:41:26] Initializing Normalizer\n",
      "[14:41:26] Running Normalizer\n",
      "[14:41:26] Running LargestFragmentChooser\n",
      "[14:41:26] Running Uncharger\n",
      "[14:41:26] Initializing MetalDisconnector\n",
      "[14:41:26] Running MetalDisconnector\n",
      "[14:41:26] Initializing Normalizer\n",
      "[14:41:26] Running Normalizer\n",
      "[14:41:26] Initializing MetalDisconnector\n",
      "[14:41:26] Running MetalDisconnector\n",
      "[14:41:26] Initializing MetalDisconnector\n",
      "[14:41:26] Running MetalDisconnector\n",
      "[14:41:26] Initializing Normalizer\n",
      "[14:41:26] Running Normalizer\n",
      "[14:41:26] Running LargestFragmentChooser\n",
      "[14:41:26] Running Uncharger\n",
      "[14:41:26] Initializing MetalDisconnector\n",
      "[14:41:26] Running MetalDisconnector\n",
      "[14:41:26] Initializing Normalizer\n",
      "[14:41:26] Running Normalizer\n",
      "[14:41:26] Initializing Normalizer\n",
      "[14:41:26] Running Normalizer\n",
      "[14:41:26] Initializing MetalDisconnector\n",
      "[14:41:26] Running MetalDisconnector\n",
      "[14:41:26] Initializing Normalizer\n",
      "[14:41:26] Running Normalizer\n",
      "[14:41:26] Running LargestFragmentChooser\n",
      "[14:41:26] Running Uncharger\n",
      "[14:41:26] Initializing MetalDisconnector\n",
      "[14:41:26] Running MetalDisconnector\n",
      "[14:41:26] Initializing Normalizer\n",
      "[14:41:26] Running Normalizer\n",
      "[14:41:26] Initializing MetalDisconnector\n",
      "[14:41:26] Running MetalDisconnector\n",
      "[14:41:26] Initializing MetalDisconnector\n",
      "[14:41:26] Running MetalDisconnector\n",
      "[14:41:26] Initializing Normalizer\n",
      "[14:41:26] Running Normalizer\n",
      "[14:41:26] Running LargestFragmentChooser\n",
      "[14:41:26] Running Uncharger\n",
      "[14:41:26] Initializing MetalDisconnector\n",
      "[14:41:26] Running MetalDisconnector\n",
      "[14:41:26] Initializing Normalizer\n",
      "[14:41:26] Running Normalizer\n",
      "[14:41:26] Initializing Normalizer\n",
      "[14:41:26] Running Normalizer\n",
      "[14:41:26] Initializing MetalDisconnector\n",
      "[14:41:26] Running MetalDisconnector\n",
      "[14:41:26] Initializing Normalizer\n",
      "[14:41:26] Running Normalizer\n",
      "[14:41:26] Running LargestFragmentChooser\n",
      "[14:41:26] Running Uncharger\n",
      "[14:41:26] Initializing MetalDisconnector\n",
      "[14:41:26] Running MetalDisconnector\n",
      "[14:41:26] Initializing Normalizer\n",
      "[14:41:26] Running Normalizer\n",
      "[14:41:26] Initializing MetalDisconnector\n",
      "[14:41:26] Running MetalDisconnector\n",
      "[14:41:26] Initializing MetalDisconnector\n",
      "[14:41:26] Running MetalDisconnector\n",
      "[14:41:26] Initializing Normalizer\n",
      "[14:41:26] Running Normalizer\n",
      "[14:41:26] Running LargestFragmentChooser\n",
      "[14:41:26] Running Uncharger\n",
      "[14:41:26] Initializing MetalDisconnector\n",
      "[14:41:26] Running MetalDisconnector\n",
      "[14:41:26] Initializing Normalizer\n",
      "[14:41:26] Running Normalizer\n",
      "[14:41:26] Initializing Normalizer\n",
      "[14:41:26] Running Normalizer\n",
      "[14:41:26] Initializing MetalDisconnector\n",
      "[14:41:26] Running MetalDisconnector\n",
      "[14:41:26] Initializing Normalizer\n",
      "[14:41:26] Running Normalizer\n",
      "[14:41:26] Running LargestFragmentChooser\n",
      "[14:41:26] Running Uncharger\n",
      "[14:41:26] Initializing MetalDisconnector\n",
      "[14:41:26] Running MetalDisconnector\n",
      "[14:41:26] Initializing Normalizer\n",
      "[14:41:26] Running Normalizer\n",
      "[14:41:26] Initializing MetalDisconnector\n",
      "[14:41:26] Running MetalDisconnector\n",
      "[14:41:26] Initializing MetalDisconnector\n",
      "[14:41:26] Running MetalDisconnector\n",
      "[14:41:26] Initializing Normalizer\n",
      "[14:41:26] Running Normalizer\n",
      "[14:41:26] Running LargestFragmentChooser\n",
      "[14:41:26] Running Uncharger\n",
      "[14:41:26] Initializing MetalDisconnector\n",
      "[14:41:26] Running MetalDisconnector\n",
      "[14:41:26] Initializing Normalizer\n",
      "[14:41:26] Running Normalizer\n",
      "[14:41:26] Initializing Normalizer\n",
      "[14:41:26] Running Normalizer\n",
      "[14:41:26] Initializing MetalDisconnector\n",
      "[14:41:26] Running MetalDisconnector\n",
      "[14:41:26] Initializing Normalizer\n",
      "[14:41:26] Running Normalizer\n",
      "[14:41:26] Running LargestFragmentChooser\n",
      "[14:41:26] Running Uncharger\n",
      "[14:41:26] Initializing MetalDisconnector\n",
      "[14:41:26] Running MetalDisconnector\n",
      "[14:41:26] Initializing Normalizer\n",
      "[14:41:26] Running Normalizer\n",
      "[14:41:26] Initializing MetalDisconnector\n",
      "[14:41:26] Running MetalDisconnector\n",
      "[14:41:26] Initializing MetalDisconnector\n",
      "[14:41:26] Running MetalDisconnector\n",
      "[14:41:26] Initializing Normalizer\n",
      "[14:41:26] Running Normalizer\n",
      "[14:41:26] Running LargestFragmentChooser\n",
      "[14:41:26] Running Uncharger\n",
      "[14:41:26] Initializing MetalDisconnector\n",
      "[14:41:26] Running MetalDisconnector\n",
      "[14:41:26] Initializing Normalizer\n",
      "[14:41:26] Running Normalizer\n",
      "[14:41:26] Initializing Normalizer\n",
      "[14:41:26] Running Normalizer\n"
     ]
    },
    {
     "name": "stdout",
     "output_type": "stream",
     "text": [
      "Standardization done\n",
      "Best Model:  <WISP.chemprop.SklChemprop object at 0x3b06a7f10>\n",
      "With a MAE of:  1.0962804990768433\n",
      "Feature:  smiles_std\n",
      "Performance on testset(r2, R2, MAE, RMSE, Maximal Error, MSE): 0.9999999999999996 ; -0.009183920986516547 ; 2.0968468084335328 ; 2.3246015113517235 ; 3.1003435192108153 ; 5.403772186578717\n"
     ]
    },
    {
     "data": {
      "image/png": "[encoded data removed]",
      "text/plain": [
       "<Figure size 640x480 with 1 Axes>"
      ]
     },
     "metadata": {},
     "output_type": "display_data"
    },
    {
     "name": "stderr",
     "output_type": "stream",
     "text": [
      "Dropping last batch of size 1 to avoid issues with batch normalization (dataset size = 1, batch_size = 64)\n",
      "Dropping last batch of size 1 to avoid issues with batch normalization (dataset size = 1, batch_size = 64)\n",
      "Dropping last batch of size 1 to avoid issues with batch normalization (dataset size = 1, batch_size = 64)\n",
      "Dropping last batch of size 1 to avoid issues with batch normalization (dataset size = 1, batch_size = 64)\n",
      "Dropping last batch of size 1 to avoid issues with batch normalization (dataset size = 1, batch_size = 64)\n",
      "Dropping last batch of size 1 to avoid issues with batch normalization (dataset size = 1, batch_size = 64)\n",
      "Dropping last batch of size 1 to avoid issues with batch normalization (dataset size = 1, batch_size = 64)\n",
      "Dropping last batch of size 1 to avoid issues with batch normalization (dataset size = 1, batch_size = 64)\n",
      "Dropping last batch of size 1 to avoid issues with batch normalization (dataset size = 1, batch_size = 64)\n",
      "Dropping last batch of size 1 to avoid issues with batch normalization (dataset size = 1, batch_size = 64)\n",
      "Dropping last batch of size 1 to avoid issues with batch normalization (dataset size = 1, batch_size = 64)\n",
      "Dropping last batch of size 1 to avoid issues with batch normalization (dataset size = 1, batch_size = 64)\n",
      "Dropping last batch of size 1 to avoid issues with batch normalization (dataset size = 1, batch_size = 64)\n"
     ]
    },
    {
     "name": "stdout",
     "output_type": "stream",
     "text": [
      "XSMILES Attribution done\n",
      "-0.11394369602203368 0.11394369602203368\n",
      "[-0.002539118053391576, -0.005954384803771973, 0.01006277371197939, -0.004568542819470167, 0.015262722969055176, -0.004745755810290575, 0.01586318016052246, -0.005794661585241556, -0.003800358157604933, 0.014839808456599712, -0.004353966098278761, 0.016067465767264366, -0.005192552227526903, 0.011238271370530128, 0.016943177208304405, 0.01461020391434431, 0.01759195327758789, 0.014728914946317673, 0.017254194244742393, 0.014618548564612865, 0.016967138275504112, 0.014584389515221119, 0.01761770248413086, 0.014727548696100712, 0.01726730726659298, 0.014629646204411983, -0.047989487648010254, -0.012576389126479626, -0.011266136541962624, -0.010418081656098366, -0.011322498321533203, -0.013013839721679688]\n",
      "N#CC(OC1OC(COC2OC(CO)C(O)C(O)C2O)C(O)C(O)C1O)c1ccccc1\n",
      "-0.11394369602203368 0.11394369602203368\n",
      "[-0.005257606506347656, -0.09182083606719971, -0.0025582313537597656, -0.003307819366455078, -0.005480384919792414, -0.09392857551574707, -0.042427122592926025, -0.01818118803203106, 0.04144195094704628, -0.08526468276977539, -0.00568623561412096, -0.005014467053115368, -0.004556894302368164, -0.004985141567885876, -0.007109212689101696]\n",
      "Cc1occc1C(=O)Nc1ccccc1\n",
      "-0.11394369602203368 0.11394369602203368\n",
      "[-0.023056311532855034, -0.023872077465057373, -0.023056311532855034, 0.0039609274826943874, -0.022028684616088867, -0.020391669124364853, -0.027434825897216797, -0.01937022991478443, 0.020446816459298134, 0.02335178852081299, -0.013929094187915325]\n",
      "CC(C)=CCCC(C)=CC=O\n",
      "-0.11394369602203368 0.11394369602203368\n",
      "[-0.04947406426072121, 0.0002446174621582031, -0.04947406426072121, -0.07469558715820312, -0.06797970086336136, -0.06797970086336136, -0.06797970086336136]\n",
      "CC(C)C(C)(C)C\n",
      "-0.11394369602203368 0.11394369602203368\n",
      "[-0.02784438617527485, -0.1260511875152588, -0.037976838648319244, -0.0365748405456543, -0.1299893856048584, -0.14480876922607422, -0.13371801376342773, -0.029520273208618164, -0.044237710535526276, -0.13501501083374023, -0.028292352333664894, -0.14107370376586914, -0.02696518413722515, -0.1385272741317749, -0.027713211253285408, -0.13085877895355225, -0.027427608147263527, -0.13171517848968506, -0.026868581771850586]\n",
      "Clc1ccc(-c2c(Cl)cc(Cl)c(Cl)c2Cl)c(Cl)c1Cl\n",
      "-0.11394369602203368 0.11394369602203368\n",
      "[-0.007025639060884714, -0.013945460319519043, -0.16277670860290527, -0.033647965639829636, -0.026280546560883522, -0.026280546560883522, -0.033647965639829636, -0.16277670860290527, -0.013945460319519043, -0.007025639060884714]\n",
      "N#Cc1ccccc1C#N\n",
      "-0.11394369602203368 0.11394369602203368\n",
      "[-0.01038310769945383, -0.14973628520965576, -0.022871971130371094, -0.020769501104950905, -0.024675751104950905, -0.15118050575256348, 0.10577508062124252, -0.006791285239160061, 0.01847177743911743, -0.029532242566347122]\n",
      "Cc1cccc([N+](=O)[O-])c1\n",
      "-0.11394369602203368 0.11394369602203368\n",
      "[-0.010367393493652344, -0.06550973653793335, -0.010367393493652344, -0.010367393493652344, 0.026654362678527832, -0.029733115807175636, -0.002350243739783764]\n",
      "FC(F)(F)C(Cl)Br\n",
      "-0.11394369602203368 0.11394369602203368\n",
      "[-0.002885189838707447, 0.017155442386865616, -0.035155653953552246, -0.021370580419898033, -0.012871810235083103, -0.002846360206604004, -0.06292474269866943, -0.019847562536597252, -0.010455629788339138, -0.04779243469238281, -0.02362571470439434, -0.018310546875, -0.007309848442673683, -0.007309848442673683]\n",
      "CNC(=O)ON=C(SC)C(=O)N(C)C\n",
      "-0.11394369602203368 0.11394369602203368\n",
      "[-0.017457377165555954, -0.016354696825146675, -0.009994949214160442, -0.015643255785107613, -0.015159913338720798, -0.0076790195889770985, -0.033426761627197266, -0.03207305446267128, -0.005045890808105469, -0.015635164454579353, -0.005045890808105469, -0.015635164454579353]\n",
      "CCSCCSP(=S)(OC)OC\n",
      "-0.11394369602203368 0.11394369602203368\n",
      "[-0.055674269795417786, -0.03961930796504021, -0.004622975829988718, -0.08096592873334885, -0.08096592873334885]\n",
      "CCC(C)C\n",
      "-0.11394369602203368 0.11394369602203368\n",
      "[-0.0013155286433175206, -0.008141176775097847, -0.02494959905743599, -0.012700115330517292, -0.008141176775097847, -0.0013155286433175206, -0.00477344635874033, -0.04429072141647339, -0.0014255443820729852, -0.0177204180508852, -0.13802146911621094, -0.04809165000915527, -0.13513433933258057, -0.030538082122802734, -0.1347355842590332, -0.030384518206119537, -0.04983506351709366, -0.13492166996002197, -0.031540002673864365]\n",
      "COP(=O)(OC)OC(=CCl)c1cc(Cl)c(Cl)cc1Cl\n",
      "Heatmaps have been created\n"
     ]
    }
   ],
   "source": [
    "data = WISP('/Users/kerrinjanssen/Nextcloud/PhD/Bayer/XAI/test-GNN/', \n",
    "     '/Users/kerrinjanssen/Nextcloud/PhD/Bayer/XAI/test-GNN/delaney-processed-Nr-short.csv',\n",
    "     \"Nr\",\n",
    "     \"smiles\", \n",
    "     'measured log solubility in mols per litre',\n",
    "     model_available=None)"
   ]
  },
  {
   "cell_type": "code",
   "execution_count": 10,
   "id": "726f5da8",
   "metadata": {},
   "outputs": [],
   "source": [
    "data = pd.read_csv('/Users/kerrinjanssen/Nextcloud/PhD/Bayer/XAI/test-GNN/Attribution_Data.csv')"
   ]
  },
  {
   "cell_type": "code",
   "execution_count": 33,
   "id": "fc8c15ac",
   "metadata": {},
   "outputs": [
    {
     "name": "stdout",
     "output_type": "stream",
     "text": [
      "[-1.0932]\n"
     ]
    },
    {
     "ename": "ValueError",
     "evalue": "too few atoms",
     "output_type": "error",
     "traceback": [
      "\u001b[31m---------------------------------------------------------------------------\u001b[39m",
      "\u001b[31mValueError\u001b[39m                                Traceback (most recent call last)",
      "\u001b[36mCell\u001b[39m\u001b[36m \u001b[39m\u001b[32mIn[33]\u001b[39m\u001b[32m, line 12\u001b[39m\n\u001b[32m     10\u001b[39m \u001b[38;5;66;03m# Draw similarity map\u001b[39;00m\n\u001b[32m     11\u001b[39m draw2d = Draw.MolDraw2DCairo(\u001b[32m900\u001b[39m, \u001b[32m900\u001b[39m)\n\u001b[32m---> \u001b[39m\u001b[32m12\u001b[39m d = \u001b[43mGetSimilarityMapFromWeightsWithScale\u001b[49m\u001b[43m(\u001b[49m\u001b[43mmol\u001b[49m\u001b[43m,\u001b[49m\u001b[43m \u001b[49m\u001b[43mattributions\u001b[49m\u001b[43m,\u001b[49m\u001b[43m \u001b[49m\u001b[43mdraw2d\u001b[49m\u001b[43m,\u001b[49m\u001b[43m \u001b[49m\u001b[33;43m'\u001b[39;49m\u001b[33;43m#10384f\u001b[39;49m\u001b[33;43m'\u001b[39;49m\u001b[43m,\u001b[49m\u001b[43m \u001b[49m\u001b[33;43m'\u001b[39;49m\u001b[33;43m#9C0D38\u001b[39;49m\u001b[33;43m'\u001b[39;49m\u001b[43m,\u001b[49m\u001b[43m \u001b[49m\u001b[43mvmin\u001b[49m\u001b[43m,\u001b[49m\u001b[43m \u001b[49m\u001b[43mvmax\u001b[49m\u001b[43m)\u001b[49m\n\u001b[32m     13\u001b[39m d.FinishDrawing()\n\u001b[32m     15\u001b[39m png_data = draw2d.GetDrawingText()\n",
      "\u001b[36mFile \u001b[39m\u001b[32m~/Nextcloud/PhD/Bayer/XAI/ml-xai/WISP/plotting_helper.py:273\u001b[39m, in \u001b[36mGetSimilarityMapFromWeightsWithScale\u001b[39m\u001b[34m(mol, weights, draw2d, hex_color1, hex_color2, overall_min, overall_max, colorMap, *args, **kwargs)\u001b[39m\n\u001b[32m    270\u001b[39m custom_colors = [color1, \u001b[33m'\u001b[39m\u001b[33m#ffffff\u001b[39m\u001b[33m'\u001b[39m, color2]\n\u001b[32m    271\u001b[39m custom_cmap = LinearSegmentedColormap.from_list(\u001b[33m\"\u001b[39m\u001b[33mcustom\u001b[39m\u001b[33m\"\u001b[39m, custom_colors, N=\u001b[32m256\u001b[39m)\n\u001b[32m--> \u001b[39m\u001b[32m273\u001b[39m d = \u001b[43mSimilarityMaps\u001b[49m\u001b[43m.\u001b[49m\u001b[43mGetSimilarityMapFromWeights\u001b[49m\u001b[43m(\u001b[49m\u001b[43mmol\u001b[49m\u001b[43m,\u001b[49m\u001b[38;5;28;43mlist\u001b[39;49m\u001b[43m(\u001b[49m\u001b[43mweights\u001b[49m\u001b[43m)\u001b[49m\u001b[43m,\u001b[49m\u001b[43mdraw2d\u001b[49m\u001b[43m,\u001b[49m\u001b[43mcolorMap\u001b[49m\u001b[43m=\u001b[49m\u001b[43mcustom_cmap\u001b[49m\u001b[43m,\u001b[49m\n\u001b[32m    274\u001b[39m \u001b[43m                                \u001b[49m\u001b[43m*\u001b[49m\u001b[43margs\u001b[49m\u001b[43m,\u001b[49m\u001b[43m*\u001b[49m\u001b[43m*\u001b[49m\u001b[43mkwargs\u001b[49m\u001b[43m,\u001b[49m\n\u001b[32m    275\u001b[39m \u001b[43m                               \u001b[49m\u001b[43m)\u001b[49m\n\u001b[32m    276\u001b[39m \u001b[38;5;28;01mreturn\u001b[39;00m d\n",
      "\u001b[36mFile \u001b[39m\u001b[32m~/anaconda3/envs/bayer/lib/python3.11/site-packages/rdkit/Chem/Draw/SimilarityMaps.py:154\u001b[39m, in \u001b[36mGetSimilarityMapFromWeights\u001b[39m\u001b[34m(mol, weights, draw2d, colorMap, scale, size, sigma, coordScale, step, colors, contourLines, alpha, **kwargs)\u001b[39m\n\u001b[32m    133\u001b[39m \u001b[38;5;250m\u001b[39m\u001b[33;03m\"\"\"\u001b[39;00m\n\u001b[32m    134\u001b[39m \u001b[33;03m  Generates the similarity map for a molecule given the atomic weights.\u001b[39;00m\n\u001b[32m    135\u001b[39m \n\u001b[32m   (...)\u001b[39m\u001b[32m    151\u001b[39m \u001b[33;03m    kwargs -- additional arguments for drawing\u001b[39;00m\n\u001b[32m    152\u001b[39m \u001b[33;03m  \"\"\"\u001b[39;00m\n\u001b[32m    153\u001b[39m \u001b[38;5;28;01mif\u001b[39;00m mol.GetNumAtoms() < \u001b[32m2\u001b[39m:\n\u001b[32m--> \u001b[39m\u001b[32m154\u001b[39m   \u001b[38;5;28;01mraise\u001b[39;00m \u001b[38;5;167;01mValueError\u001b[39;00m(\u001b[33m\"\u001b[39m\u001b[33mtoo few atoms\u001b[39m\u001b[33m\"\u001b[39m)\n\u001b[32m    156\u001b[39m \u001b[38;5;28;01mif\u001b[39;00m draw2d \u001b[38;5;129;01mis\u001b[39;00m \u001b[38;5;28;01mNone\u001b[39;00m:\n\u001b[32m    157\u001b[39m   \u001b[38;5;28;01mraise\u001b[39;00m \u001b[38;5;167;01mValueError\u001b[39;00m(\u001b[33m\"\u001b[39m\u001b[33mthe draw2d argument must be provided\u001b[39m\u001b[33m\"\u001b[39m)\n",
      "\u001b[31mValueError\u001b[39m: too few atoms"
     ]
    }
   ],
   "source": [
    "smiles = 'C'\n",
    "attributions = [-1.0932]\n",
    "attributions = [float(x) for x in attributions]\n",
    "print(attributions)\n",
    "vmin = -0.0923452377319336\n",
    "vmax = 0.0923452377319336\n",
    "mol = Chem.MolFromSmiles(smiles, sanitize=False)\n",
    "Chem.SanitizeMol(mol)#to keep the explicit hydrogens\n",
    "\n",
    "# Draw similarity map\n",
    "draw2d = Draw.MolDraw2DCairo(900, 900)\n",
    "d = GetSimilarityMapFromWeightsWithScale(mol, attributions, draw2d, '#10384f', '#9C0D38', vmin, vmax)\n",
    "d.FinishDrawing()\n",
    "\n",
    "png_data = draw2d.GetDrawingText()\n",
    "display(Image(data=png_data))"
   ]
  },
  {
   "cell_type": "code",
   "execution_count": 2,
   "id": "32340644",
   "metadata": {},
   "outputs": [],
   "source": [
    "data_LCAP = pd.read_csv('/Users/kerrinjanssen/Nextcloud/PhD/Bayer/XAI/test-GNN/ESOL.csv')"
   ]
  },
  {
   "cell_type": "code",
   "execution_count": 5,
   "id": "b3b13255",
   "metadata": {},
   "outputs": [
    {
     "ename": "TypeError",
     "evalue": "SklChemprop.__init__() got an unexpected keyword argument 'working_dir'",
     "output_type": "error",
     "traceback": [
      "\u001b[31m---------------------------------------------------------------------------\u001b[39m",
      "\u001b[31mTypeError\u001b[39m                                 Traceback (most recent call last)",
      "\u001b[36mCell\u001b[39m\u001b[36m \u001b[39m\u001b[32mIn[5]\u001b[39m\u001b[32m, line 1\u001b[39m\n\u001b[32m----> \u001b[39m\u001b[32m1\u001b[39m model = \u001b[43mSklChemprop\u001b[49m\u001b[43m(\u001b[49m\u001b[43mproblem_type\u001b[49m\u001b[43m=\u001b[49m\u001b[33;43m\"\u001b[39;49m\u001b[33;43mregression\u001b[39;49m\u001b[33;43m\"\u001b[39;49m\u001b[43m,\u001b[49m\u001b[43m \u001b[49m\u001b[43mmax_epochs\u001b[49m\u001b[43m=\u001b[49m\u001b[32;43m20\u001b[39;49m\u001b[43m,\u001b[49m\u001b[43m \u001b[49m\u001b[43mSmiles_Column_Name\u001b[49m\u001b[43m=\u001b[49m\u001b[33;43m\"\u001b[39;49m\u001b[33;43msmiles\u001b[39;49m\u001b[33;43m\"\u001b[39;49m\u001b[43m,\u001b[49m\u001b[43m \u001b[49m\u001b[43mTarget_Column_Name\u001b[49m\u001b[43m=\u001b[49m\u001b[33;43m'\u001b[39;49m\u001b[33;43mmeasured log solubility in mols per litre\u001b[39;49m\u001b[33;43m'\u001b[39;49m\u001b[43m,\u001b[49m\u001b[43m \u001b[49m\u001b[43mworking_dir\u001b[49m\u001b[43m=\u001b[49m\u001b[33;43m'\u001b[39;49m\u001b[33;43m/Users/kerrinjanssen/Nextcloud/PhD/Bayer/XAI/test-GNN/\u001b[39;49m\u001b[33;43m'\u001b[39;49m\u001b[43m)\u001b[49m\u001b[38;5;66;03m#\u001b[39;00m\n\u001b[32m      2\u001b[39m model.fit(train)\n",
      "\u001b[31mTypeError\u001b[39m: SklChemprop.__init__() got an unexpected keyword argument 'working_dir'"
     ]
    }
   ],
   "source": [
    "model = SklChemprop(problem_type=\"regression\", max_epochs=20, Smiles_Column_Name=\"smiles\", Target_Column_Name='measured log solubility in mols per litre', working_dir='/Users/kerrinjanssen/Nextcloud/PhD/Bayer/XAI/test-GNN/')#\n",
    "model.fit(train)"
   ]
  },
  {
   "cell_type": "code",
   "execution_count": 203,
   "id": "cf9962f0",
   "metadata": {},
   "outputs": [
    {
     "name": "stderr",
     "output_type": "stream",
     "text": [
      "💡 Tip: For seamless cloud uploads and versioning, try installing [litmodels](https://pypi.org/project/litmodels/) to enable LitModelCheckpoint, which syncs automatically with the Lightning model registry.\n",
      "GPU available: True (mps), used: False\n",
      "TPU available: False, using: 0 TPU cores\n",
      "HPU available: False, using: 0 HPUs\n"
     ]
    },
    {
     "name": "stdout",
     "output_type": "stream",
     "text": [
      "0.9392137186205226 0.9365797692870366 0.383763387043566 0.5350001106415875\n"
     ]
    }
   ],
   "source": [
    "Target_Column_Name='measured log solubility in mols per litre'\n",
    "\n",
    "predictions = model.predict(train)\n",
    "target = train[Target_Column_Name].values\n",
    "\n",
    "r2 = np.corrcoef(target.flatten(), predictions.flatten())[0,1]**2\n",
    "\n",
    "RMSE_z = np.sqrt(np.mean((target.flatten() - predictions.flatten())**2))\n",
    "RMSE_n = np.sqrt(np.mean((target.flatten() - np.mean(target.flatten()))**2))\n",
    "R2 = 1 - RMSE_z**2/RMSE_n**2\n",
    "\n",
    "MAE = mean_absolute_error(target.flatten(), predictions.flatten())\n",
    "\n",
    "mse = mean_squared_error(target.flatten(), predictions.flatten())\n",
    "rmse = np.sqrt(mse)\n",
    "\n",
    "print(r2, R2, MAE, rmse)"
   ]
  },
  {
   "cell_type": "code",
   "execution_count": 23,
   "id": "bc01757f",
   "metadata": {},
   "outputs": [
    {
     "data": {
      "application/vnd.microsoft.datawrangler.viewer.v0+json": {
       "columns": [
        {
         "name": "index",
         "rawType": "int64",
         "type": "integer"
        },
        {
         "name": "Compound ID",
         "rawType": "object",
         "type": "string"
        },
        {
         "name": "ESOL predicted log solubility in mols per litre",
         "rawType": "float64",
         "type": "float"
        },
        {
         "name": "Minimum Degree",
         "rawType": "int64",
         "type": "integer"
        },
        {
         "name": "Molecular Weight",
         "rawType": "float64",
         "type": "float"
        },
        {
         "name": "Number of H-Bond Donors",
         "rawType": "int64",
         "type": "integer"
        },
        {
         "name": "Number of Rings",
         "rawType": "int64",
         "type": "integer"
        },
        {
         "name": "Number of Rotatable Bonds",
         "rawType": "int64",
         "type": "integer"
        },
        {
         "name": "Polar Surface Area",
         "rawType": "float64",
         "type": "float"
        },
        {
         "name": "measured log solubility in mols per litre",
         "rawType": "float64",
         "type": "float"
        },
        {
         "name": "smiles",
         "rawType": "object",
         "type": "string"
        }
       ],
       "ref": "32d0ea73-037d-488b-935c-010aa76598d9",
       "rows": [
        [
         "0",
         "Amigdalin",
         "-0.974",
         "1",
         "457.4320000000001",
         "7",
         "3",
         "7",
         "202.31999999999996",
         "-0.77",
         "OCC3OC(OCC2OC(OC(C#N)c1ccccc1)C(O)C(O)C2O)C(O)C(O)C3O "
        ],
        [
         "1",
         "Fenfuram",
         "-2.885",
         "1",
         "201.225",
         "1",
         "2",
         "2",
         "42.24",
         "-3.3",
         "Cc1occc1C(=O)Nc2ccccc2"
        ],
        [
         "2",
         "citral",
         "-2.5789999999999997",
         "1",
         "152.237",
         "0",
         "0",
         "4",
         "17.07",
         "-2.06",
         "CC(C)=CCCC(C)=CC(=O)"
        ],
        [
         "3",
         "Picene",
         "-6.617999999999999",
         "2",
         "278.354",
         "0",
         "5",
         "0",
         "0.0",
         "-7.87",
         "c1ccc2c(c1)ccc3c2ccc4c5ccccc5ccc43"
        ],
        [
         "4",
         "Thiophene",
         "-2.232",
         "2",
         "84.14299999999999",
         "0",
         "1",
         "0",
         "0.0",
         "-1.33",
         "c1ccsc1"
        ],
        [
         "5",
         "benzothiazole",
         "-2.733",
         "2",
         "135.191",
         "0",
         "2",
         "0",
         "12.89",
         "-1.5",
         "c2ccc1scnc1c2 "
        ],
        [
         "6",
         "2,2,4,6,6'-PCB",
         "-6.545",
         "1",
         "326.437",
         "0",
         "2",
         "1",
         "0.0",
         "-7.32",
         "Clc1cc(Cl)c(c(Cl)c1)c2c(Cl)cccc2Cl"
        ],
        [
         "7",
         "Estradiol",
         "-4.138",
         "1",
         "272.388",
         "2",
         "4",
         "0",
         "40.46",
         "-5.03",
         "CC12CCC3C(CCc4cc(O)ccc34)C2CCC1O"
        ],
        [
         "8",
         "Dieldrin",
         "-4.533",
         "1",
         "380.913",
         "0",
         "5",
         "0",
         "12.53",
         "-6.29",
         "ClC4=C(Cl)C5(Cl)C3C1CC(C2OC12)C3C4(Cl)C5(Cl)Cl"
        ],
        [
         "9",
         "Rotenone",
         "-5.246",
         "1",
         "394.42300000000023",
         "0",
         "5",
         "3",
         "63.22",
         "-4.42",
         "COc5cc4OCC3Oc2c1CC(Oc1ccc2C(=O)C3c4cc5OC)C(C)=C "
        ],
        [
         "10",
         "2-pyrrolidone",
         "0.243",
         "1",
         "85.10600000000001",
         "1",
         "1",
         "0",
         "29.1",
         "1.07",
         "O=C1CCCN1"
        ],
        [
         "11",
         "2-Chloronapthalene",
         "-4.063",
         "1",
         "162.61899999999997",
         "0",
         "2",
         "0",
         "0.0",
         "-4.14",
         "Clc1ccc2ccccc2c1"
        ],
        [
         "12",
         "1-Pentene ",
         "-2.01",
         "1",
         "70.135",
         "0",
         "0",
         "2",
         "0.0",
         "-2.68",
         "CCCC=C"
        ],
        [
         "13",
         "Primidone",
         "-1.897",
         "1",
         "218.256",
         "2",
         "2",
         "2",
         "58.2",
         "-2.64",
         "CCC1(C(=O)NCNC1=O)c2ccccc2"
        ],
        [
         "14",
         "Tetradecane",
         "-5.45",
         "1",
         "198.39399999999995",
         "0",
         "0",
         "11",
         "0.0",
         "-7.96",
         "CCCCCCCCCCCCCC"
        ],
        [
         "15",
         "2-Chloropropane",
         "-1.585",
         "1",
         "78.542",
         "0",
         "0",
         "0",
         "0.0",
         "-1.41",
         "CC(C)Cl"
        ],
        [
         "16",
         "2-Methylbutanol",
         "-1.027",
         "1",
         "88.14999999999999",
         "1",
         "0",
         "2",
         "20.23",
         "-0.47",
         "CCC(C)CO"
        ],
        [
         "17",
         "Benzonitrile",
         "-2.03",
         "1",
         "103.12399999999997",
         "0",
         "1",
         "0",
         "23.79",
         "-1.0",
         "N#Cc1ccccc1"
        ],
        [
         "18",
         "Diazinon",
         "-3.989",
         "1",
         "304.35200000000003",
         "0",
         "1",
         "7",
         "53.47",
         "-3.64",
         "CCOP(=S)(OCC)Oc1cc(C)nc(n1)C(C)C"
        ],
        [
         "19",
         "2-Undecanol",
         "-3.096",
         "1",
         "172.312",
         "1",
         "0",
         "8",
         "20.23",
         "-2.94",
         "CCCCCCCCCC(C)O"
        ],
        [
         "20",
         "2,2',3,4,6-PCB",
         "-6.627000000000001",
         "1",
         "326.437",
         "0",
         "2",
         "1",
         "0.0",
         "-7.43",
         "Clc1ccc(c(Cl)c1)c2c(Cl)ccc(Cl)c2Cl "
        ],
        [
         "21",
         "Lenacil",
         "-3.355",
         "1",
         "234.29899999999995",
         "1",
         "3",
         "1",
         "54.86",
         "-4.593999999999999",
         "O=c2[nH]c1CCCc1c(=O)n2C3CCCCC3"
        ],
        [
         "22",
         "Phorate",
         "-3.747",
         "1",
         "260.38599999999997",
         "0",
         "0",
         "8",
         "18.46",
         "-4.11",
         "CCOP(=S)(OCC)SCSCC"
        ],
        [
         "23",
         "Phenacetin",
         "-2.342",
         "1",
         "179.219",
         "1",
         "1",
         "3",
         "38.33",
         "-2.35",
         "CCOc1ccc(NC(=O)C)cc1"
        ],
        [
         "24",
         "Dinitramine",
         "-4.479",
         "1",
         "322.243",
         "1",
         "1",
         "5",
         "115.54000000000002",
         "-5.47",
         "CCN(CC)c1c(cc(c(N)c1N(=O)=O)C(F)(F)F)N(=O)=O"
        ],
        [
         "25",
         "1-Heptanol",
         "-1.751",
         "1",
         "116.204",
         "1",
         "0",
         "5",
         "20.23",
         "-1.81",
         "CCCCCCCO"
        ],
        [
         "26",
         "Theophylline",
         "-1.452",
         "1",
         "180.16699999999997",
         "1",
         "2",
         "0",
         "72.68",
         "-1.39",
         "Cn1c(=O)n(C)c2nc[nH]c2c1=O"
        ],
        [
         "27",
         "Butethal",
         "-1.974",
         "1",
         "212.249",
         "2",
         "1",
         "4",
         "75.27000000000001",
         "-1.661",
         "CCCCC1(CC)C(=O)NC(=O)NC1=O"
        ],
        [
         "28",
         "P,P'-DDE",
         "-6.553",
         "1",
         "318.0300000000001",
         "0",
         "2",
         "2",
         "0.0",
         "-6.9",
         "ClC(Cl)=C(c1ccc(Cl)cc1)c2ccc(Cl)cc2"
        ],
        [
         "29",
         "Methyl octanoate",
         "-2.608",
         "1",
         "158.241",
         "0",
         "0",
         "6",
         "26.3",
         "-3.17",
         "CCCCCCCC(=O)OC"
        ],
        [
         "30",
         "1,4-Diethylbenzene ",
         "-3.633",
         "1",
         "134.22199999999998",
         "0",
         "1",
         "2",
         "0.0",
         "-3.75",
         "CCc1ccc(CC)cc1"
        ],
        [
         "31",
         "Terbufos",
         "-4.367",
         "1",
         "288.44",
         "0",
         "0",
         "7",
         "18.46",
         "-4.755",
         "CCOP(=S)(OCC)SCSC(C)(C)C"
        ],
        [
         "32",
         "Phenmedipham",
         "-4.229",
         "1",
         "300.314",
         "2",
         "2",
         "3",
         "76.66",
         "-4.805",
         "COC(=O)Nc1cccc(OC(=O)Nc2cccc(C)c2)c1"
        ],
        [
         "33",
         "1,1-Dichloroethylene",
         "-1.939",
         "1",
         "96.944",
         "0",
         "0",
         "0",
         "0.0",
         "-1.64",
         "ClC(=C)Cl"
        ],
        [
         "34",
         "1-Methylfluorene",
         "-4.478",
         "1",
         "180.25000000000003",
         "0",
         "3",
         "0",
         "0.0",
         "-5.22",
         "Cc1cccc2c1Cc3ccccc32"
        ],
        [
         "35",
         "Valeraldehyde",
         "-1.103",
         "1",
         "86.13399999999999",
         "0",
         "0",
         "3",
         "17.07",
         "-0.85",
         "CCCCC=O"
        ],
        [
         "36",
         "Diphenylamine",
         "-3.857",
         "2",
         "169.227",
         "1",
         "2",
         "2",
         "12.03",
         "-3.5039999999999996",
         "N(c1ccccc1)c2ccccc2"
        ],
        [
         "37",
         "Fenothiocarb",
         "-3.2969999999999997",
         "1",
         "253.367",
         "0",
         "1",
         "6",
         "29.540000000000003",
         "-3.927",
         "CN(C)C(=O)SCCCCOc1ccccc1"
        ],
        [
         "38",
         "Piperophos",
         "-4.637",
         "1",
         "353.4900000000001",
         "0",
         "1",
         "9",
         "38.77",
         "-4.15",
         "CCCOP(=S)(OCCC)SCC(=O)N1CCCCC1C"
        ],
        [
         "39",
         "1-Iodoheptane",
         "-3.904",
         "1",
         "226.101",
         "0",
         "0",
         "5",
         "0.0",
         "-4.81",
         "CCCCCCCI"
        ],
        [
         "40",
         "3-Chlorobiphenyl",
         "-4.685",
         "1",
         "188.657",
         "0",
         "2",
         "1",
         "0.0",
         "-4.88",
         "c1c(Cl)cccc1c2ccccc2"
        ],
        [
         "41",
         "4-Pentene-1-ol",
         "-0.7909999999999999",
         "1",
         "86.134",
         "1",
         "0",
         "3",
         "20.23",
         "-0.15",
         "OCCCC=C"
        ],
        [
         "42",
         "Cyclobutyl-5-spirobarbituric acid",
         "-0.527",
         "1",
         "168.15200000000002",
         "2",
         "2",
         "0",
         "75.27",
         "-1.655",
         "O=C2NC(=O)C1(CCC1)C(=O)N2"
        ],
        [
         "43",
         "menthol",
         "-2.782",
         "1",
         "156.269",
         "1",
         "1",
         "1",
         "20.23",
         "-2.53",
         "CC(C)C1CCC(C)CC1O "
        ],
        [
         "44",
         "Isopropyl formate",
         "-0.684",
         "1",
         "88.106",
         "0",
         "0",
         "2",
         "26.3",
         "-0.63",
         "CC(C)OC=O"
        ],
        [
         "45",
         "2-Heptanol ",
         "-1.6780000000000002",
         "1",
         "116.20399999999998",
         "1",
         "0",
         "4",
         "20.23",
         "-1.55",
         "CCCCCC(C)O"
        ],
        [
         "46",
         "p-Bromoacetanilide",
         "-3.012",
         "1",
         "214.062",
         "1",
         "1",
         "1",
         "29.1",
         "-3.083",
         "CC(=O)Nc1ccc(Br)cc1"
        ],
        [
         "47",
         "brompyrazone",
         "-3.005",
         "1",
         "266.098",
         "1",
         "2",
         "1",
         "60.91",
         "-3.127",
         "c1ccccc1n2ncc(N)c(Br)c2(=O)"
        ],
        [
         "48",
         "nifedipine",
         "-4.248",
         "1",
         "346.33900000000017",
         "1",
         "2",
         "4",
         "107.77",
         "-4.76",
         "COC(=O)C1=C(C)NC(=C(C1c2ccccc2N(=O)=O)C(=O)OC)C "
        ],
        [
         "49",
         "2,7-dimethylquinoline",
         "-3.342",
         "1",
         "157.216",
         "0",
         "2",
         "0",
         "12.89",
         "-1.94",
         "c2c(C)cc1nc(C)ccc1c2 "
        ]
       ],
       "shape": {
        "columns": 10,
        "rows": 1128
       }
      },
      "text/html": [
       "<div>\n",
       "<style scoped>\n",
       "    .dataframe tbody tr th:only-of-type {\n",
       "        vertical-align: middle;\n",
       "    }\n",
       "\n",
       "    .dataframe tbody tr th {\n",
       "        vertical-align: top;\n",
       "    }\n",
       "\n",
       "    .dataframe thead th {\n",
       "        text-align: right;\n",
       "    }\n",
       "</style>\n",
       "<table border=\"1\" class=\"dataframe\">\n",
       "  <thead>\n",
       "    <tr style=\"text-align: right;\">\n",
       "      <th></th>\n",
       "      <th>Compound ID</th>\n",
       "      <th>ESOL predicted log solubility in mols per litre</th>\n",
       "      <th>Minimum Degree</th>\n",
       "      <th>Molecular Weight</th>\n",
       "      <th>Number of H-Bond Donors</th>\n",
       "      <th>Number of Rings</th>\n",
       "      <th>Number of Rotatable Bonds</th>\n",
       "      <th>Polar Surface Area</th>\n",
       "      <th>measured log solubility in mols per litre</th>\n",
       "      <th>smiles</th>\n",
       "    </tr>\n",
       "  </thead>\n",
       "  <tbody>\n",
       "    <tr>\n",
       "      <th>0</th>\n",
       "      <td>Amigdalin</td>\n",
       "      <td>-0.974</td>\n",
       "      <td>1</td>\n",
       "      <td>457.432</td>\n",
       "      <td>7</td>\n",
       "      <td>3</td>\n",
       "      <td>7</td>\n",
       "      <td>202.32</td>\n",
       "      <td>-0.770</td>\n",
       "      <td>OCC3OC(OCC2OC(OC(C#N)c1ccccc1)C(O)C(O)C2O)C(O)...</td>\n",
       "    </tr>\n",
       "    <tr>\n",
       "      <th>1</th>\n",
       "      <td>Fenfuram</td>\n",
       "      <td>-2.885</td>\n",
       "      <td>1</td>\n",
       "      <td>201.225</td>\n",
       "      <td>1</td>\n",
       "      <td>2</td>\n",
       "      <td>2</td>\n",
       "      <td>42.24</td>\n",
       "      <td>-3.300</td>\n",
       "      <td>Cc1occc1C(=O)Nc2ccccc2</td>\n",
       "    </tr>\n",
       "    <tr>\n",
       "      <th>2</th>\n",
       "      <td>citral</td>\n",
       "      <td>-2.579</td>\n",
       "      <td>1</td>\n",
       "      <td>152.237</td>\n",
       "      <td>0</td>\n",
       "      <td>0</td>\n",
       "      <td>4</td>\n",
       "      <td>17.07</td>\n",
       "      <td>-2.060</td>\n",
       "      <td>CC(C)=CCCC(C)=CC(=O)</td>\n",
       "    </tr>\n",
       "    <tr>\n",
       "      <th>3</th>\n",
       "      <td>Picene</td>\n",
       "      <td>-6.618</td>\n",
       "      <td>2</td>\n",
       "      <td>278.354</td>\n",
       "      <td>0</td>\n",
       "      <td>5</td>\n",
       "      <td>0</td>\n",
       "      <td>0.00</td>\n",
       "      <td>-7.870</td>\n",
       "      <td>c1ccc2c(c1)ccc3c2ccc4c5ccccc5ccc43</td>\n",
       "    </tr>\n",
       "    <tr>\n",
       "      <th>4</th>\n",
       "      <td>Thiophene</td>\n",
       "      <td>-2.232</td>\n",
       "      <td>2</td>\n",
       "      <td>84.143</td>\n",
       "      <td>0</td>\n",
       "      <td>1</td>\n",
       "      <td>0</td>\n",
       "      <td>0.00</td>\n",
       "      <td>-1.330</td>\n",
       "      <td>c1ccsc1</td>\n",
       "    </tr>\n",
       "    <tr>\n",
       "      <th>...</th>\n",
       "      <td>...</td>\n",
       "      <td>...</td>\n",
       "      <td>...</td>\n",
       "      <td>...</td>\n",
       "      <td>...</td>\n",
       "      <td>...</td>\n",
       "      <td>...</td>\n",
       "      <td>...</td>\n",
       "      <td>...</td>\n",
       "      <td>...</td>\n",
       "    </tr>\n",
       "    <tr>\n",
       "      <th>1123</th>\n",
       "      <td>halothane</td>\n",
       "      <td>-2.608</td>\n",
       "      <td>1</td>\n",
       "      <td>197.381</td>\n",
       "      <td>0</td>\n",
       "      <td>0</td>\n",
       "      <td>0</td>\n",
       "      <td>0.00</td>\n",
       "      <td>-1.710</td>\n",
       "      <td>FC(F)(F)C(Cl)Br</td>\n",
       "    </tr>\n",
       "    <tr>\n",
       "      <th>1124</th>\n",
       "      <td>Oxamyl</td>\n",
       "      <td>-0.908</td>\n",
       "      <td>1</td>\n",
       "      <td>219.266</td>\n",
       "      <td>1</td>\n",
       "      <td>0</td>\n",
       "      <td>1</td>\n",
       "      <td>71.00</td>\n",
       "      <td>0.106</td>\n",
       "      <td>CNC(=O)ON=C(SC)C(=O)N(C)C</td>\n",
       "    </tr>\n",
       "    <tr>\n",
       "      <th>1125</th>\n",
       "      <td>Thiometon</td>\n",
       "      <td>-3.323</td>\n",
       "      <td>1</td>\n",
       "      <td>246.359</td>\n",
       "      <td>0</td>\n",
       "      <td>0</td>\n",
       "      <td>7</td>\n",
       "      <td>18.46</td>\n",
       "      <td>-3.091</td>\n",
       "      <td>CCSCCSP(=S)(OC)OC</td>\n",
       "    </tr>\n",
       "    <tr>\n",
       "      <th>1126</th>\n",
       "      <td>2-Methylbutane</td>\n",
       "      <td>-2.245</td>\n",
       "      <td>1</td>\n",
       "      <td>72.151</td>\n",
       "      <td>0</td>\n",
       "      <td>0</td>\n",
       "      <td>1</td>\n",
       "      <td>0.00</td>\n",
       "      <td>-3.180</td>\n",
       "      <td>CCC(C)C</td>\n",
       "    </tr>\n",
       "    <tr>\n",
       "      <th>1127</th>\n",
       "      <td>Stirofos</td>\n",
       "      <td>-4.320</td>\n",
       "      <td>1</td>\n",
       "      <td>365.964</td>\n",
       "      <td>0</td>\n",
       "      <td>1</td>\n",
       "      <td>5</td>\n",
       "      <td>44.76</td>\n",
       "      <td>-4.522</td>\n",
       "      <td>COP(=O)(OC)OC(=CCl)c1cc(Cl)c(Cl)cc1Cl</td>\n",
       "    </tr>\n",
       "  </tbody>\n",
       "</table>\n",
       "<p>1128 rows × 10 columns</p>\n",
       "</div>"
      ],
      "text/plain": [
       "         Compound ID  ESOL predicted log solubility in mols per litre  \\\n",
       "0          Amigdalin                                           -0.974   \n",
       "1           Fenfuram                                           -2.885   \n",
       "2             citral                                           -2.579   \n",
       "3             Picene                                           -6.618   \n",
       "4          Thiophene                                           -2.232   \n",
       "...              ...                                              ...   \n",
       "1123       halothane                                           -2.608   \n",
       "1124          Oxamyl                                           -0.908   \n",
       "1125       Thiometon                                           -3.323   \n",
       "1126  2-Methylbutane                                           -2.245   \n",
       "1127        Stirofos                                           -4.320   \n",
       "\n",
       "      Minimum Degree  Molecular Weight  Number of H-Bond Donors  \\\n",
       "0                  1           457.432                        7   \n",
       "1                  1           201.225                        1   \n",
       "2                  1           152.237                        0   \n",
       "3                  2           278.354                        0   \n",
       "4                  2            84.143                        0   \n",
       "...              ...               ...                      ...   \n",
       "1123               1           197.381                        0   \n",
       "1124               1           219.266                        1   \n",
       "1125               1           246.359                        0   \n",
       "1126               1            72.151                        0   \n",
       "1127               1           365.964                        0   \n",
       "\n",
       "      Number of Rings  Number of Rotatable Bonds  Polar Surface Area  \\\n",
       "0                   3                          7              202.32   \n",
       "1                   2                          2               42.24   \n",
       "2                   0                          4               17.07   \n",
       "3                   5                          0                0.00   \n",
       "4                   1                          0                0.00   \n",
       "...               ...                        ...                 ...   \n",
       "1123                0                          0                0.00   \n",
       "1124                0                          1               71.00   \n",
       "1125                0                          7               18.46   \n",
       "1126                0                          1                0.00   \n",
       "1127                1                          5               44.76   \n",
       "\n",
       "      measured log solubility in mols per litre  \\\n",
       "0                                        -0.770   \n",
       "1                                        -3.300   \n",
       "2                                        -2.060   \n",
       "3                                        -7.870   \n",
       "4                                        -1.330   \n",
       "...                                         ...   \n",
       "1123                                     -1.710   \n",
       "1124                                      0.106   \n",
       "1125                                     -3.091   \n",
       "1126                                     -3.180   \n",
       "1127                                     -4.522   \n",
       "\n",
       "                                                 smiles  \n",
       "0     OCC3OC(OCC2OC(OC(C#N)c1ccccc1)C(O)C(O)C2O)C(O)...  \n",
       "1                                Cc1occc1C(=O)Nc2ccccc2  \n",
       "2                                  CC(C)=CCCC(C)=CC(=O)  \n",
       "3                    c1ccc2c(c1)ccc3c2ccc4c5ccccc5ccc43  \n",
       "4                                               c1ccsc1  \n",
       "...                                                 ...  \n",
       "1123                                   FC(F)(F)C(Cl)Br   \n",
       "1124                          CNC(=O)ON=C(SC)C(=O)N(C)C  \n",
       "1125                                  CCSCCSP(=S)(OC)OC  \n",
       "1126                                            CCC(C)C  \n",
       "1127              COP(=O)(OC)OC(=CCl)c1cc(Cl)c(Cl)cc1Cl  \n",
       "\n",
       "[1128 rows x 10 columns]"
      ]
     },
     "execution_count": 23,
     "metadata": {},
     "output_type": "execute_result"
    }
   ],
   "source": [
    "data_LCAP"
   ]
  },
  {
   "cell_type": "code",
   "execution_count": 24,
   "id": "792ccf60",
   "metadata": {},
   "outputs": [],
   "source": [
    "X_data_attributions_1 = get_features(data_LCAP, ['smiles'])"
   ]
  },
  {
   "cell_type": "code",
   "execution_count": 25,
   "id": "2190deab",
   "metadata": {},
   "outputs": [
    {
     "data": {
      "text/plain": [
       "array([['OCC3OC(OCC2OC(OC(C#N)c1ccccc1)C(O)C(O)C2O)C(O)C(O)C3O '],\n",
       "       ['Cc1occc1C(=O)Nc2ccccc2'],\n",
       "       ['CC(C)=CCCC(C)=CC(=O)'],\n",
       "       ...,\n",
       "       ['CCSCCSP(=S)(OC)OC'],\n",
       "       ['CCC(C)C'],\n",
       "       ['COP(=O)(OC)OC(=CCl)c1cc(Cl)c(Cl)cc1Cl']], dtype=object)"
      ]
     },
     "execution_count": 25,
     "metadata": {},
     "output_type": "execute_result"
    }
   ],
   "source": [
    "X_data_attributions_1"
   ]
  },
  {
   "cell_type": "code",
   "execution_count": 39,
   "id": "90fdf03c",
   "metadata": {},
   "outputs": [],
   "source": [
    "def train_GNN(train, Smiles_Column_Name, Target_Column_Name, working_dir):\n",
    "    model_GNN = SklChemprop(problem_type=\"regression\", max_epochs=20, Smiles_Column_Name=Smiles_Column_Name, Target_Column_Name=Target_Column_Name, working_dir=working_dir)\n",
    "    model_GNN.fit(train)\n",
    "\n",
    "    prep_smiles = get_features(train, 'smiles')\n",
    "\n",
    "    predictions = model_GNN.predict(prep_smiles)\n",
    "    target = train[Target_Column_Name].values\n",
    "\n",
    "    r2 = np.corrcoef(target.flatten(), predictions.flatten())[0,1]**2\n",
    "    RMSE_z = np.sqrt(np.mean((target.flatten() - predictions.flatten())**2))\n",
    "    RMSE_n = np.sqrt(np.mean((target.flatten() - np.mean(target.flatten()))**2))\n",
    "    R2 = 1 - RMSE_z**2/RMSE_n**2\n",
    "    MAE = mean_absolute_error(target.flatten(), predictions.flatten())\n",
    "    mse = mean_squared_error(target.flatten(), predictions.flatten())\n",
    "    rmse = np.sqrt(mse)\n",
    "\n",
    "    return r2, R2, MAE, rmse"
   ]
  },
  {
   "cell_type": "code",
   "execution_count": 40,
   "id": "e1c71ba5",
   "metadata": {},
   "outputs": [
    {
     "ename": "ValueError",
     "evalue": "cannot insert level_0, already exists",
     "output_type": "error",
     "traceback": [
      "\u001b[31m---------------------------------------------------------------------------\u001b[39m",
      "\u001b[31mValueError\u001b[39m                                Traceback (most recent call last)",
      "\u001b[32m/var/folders/wt/xq3kvgvj01l4775ypfjy0p400000gn/T/ipykernel_13792/1089097617.py\u001b[39m in \u001b[36m?\u001b[39m\u001b[34m()\u001b[39m\n\u001b[32m----> \u001b[39m\u001b[32m1\u001b[39m r2, R2, MAE, rmse = train_GNN(train, \u001b[33m'smiles'\u001b[39m, \u001b[33m'measured log solubility in mols per litre'\u001b[39m, \u001b[33m'/Users/kerrinjanssen/Nextcloud/PhD/Bayer/XAI/test-GNN/'\u001b[39m)\n",
      "\u001b[32m/var/folders/wt/xq3kvgvj01l4775ypfjy0p400000gn/T/ipykernel_13792/952667629.py\u001b[39m in \u001b[36m?\u001b[39m\u001b[34m(train, Smiles_Column_Name, Target_Column_Name, working_dir)\u001b[39m\n\u001b[32m      1\u001b[39m \u001b[38;5;28;01mdef\u001b[39;00m train_GNN(train, Smiles_Column_Name, Target_Column_Name, working_dir):\n\u001b[32m      2\u001b[39m     model_GNN = SklChemprop(problem_type=\u001b[33m\"regression\"\u001b[39m, max_epochs=\u001b[32m20\u001b[39m, Smiles_Column_Name=Smiles_Column_Name, Target_Column_Name=Target_Column_Name, working_dir=working_dir)\n\u001b[32m----> \u001b[39m\u001b[32m3\u001b[39m     model_GNN.fit(train)\n\u001b[32m      4\u001b[39m \n\u001b[32m      5\u001b[39m     prep_smiles = get_features(train, \u001b[33m'smiles'\u001b[39m)\n\u001b[32m      6\u001b[39m \n",
      "\u001b[32m/var/folders/wt/xq3kvgvj01l4775ypfjy0p400000gn/T/ipykernel_13792/1620111186.py\u001b[39m in \u001b[36m?\u001b[39m\u001b[34m(self, df_input)\u001b[39m\n\u001b[32m     42\u001b[39m     \u001b[38;5;28;01mdef\u001b[39;00m fit(self,df_input:\u001b[33m\"pd.Dataframe\"\u001b[39m):\n\u001b[32m---> \u001b[39m\u001b[32m43\u001b[39m         df_input.reset_index(inplace=\u001b[38;5;28;01mTrue\u001b[39;00m)\n\u001b[32m     44\u001b[39m         num_workers = \u001b[32m0\u001b[39m \u001b[38;5;66;03m# number of workers for dataloader. 0 means using main process for data loading\u001b[39;00m\n\u001b[32m     45\u001b[39m         smiles_column = self.Smiles_Column_Name \u001b[38;5;66;03m# name of the column containing SMILES strings\u001b[39;00m\n\u001b[32m     46\u001b[39m         target_columns = [self.Target_Column_Name] \u001b[38;5;66;03m# list of names of the columns containing targets\u001b[39;00m\n",
      "\u001b[32m~/anaconda3/envs/bayer/lib/python3.11/site-packages/pandas/core/frame.py\u001b[39m in \u001b[36m?\u001b[39m\u001b[34m(self, level, drop, inplace, col_level, col_fill, allow_duplicates, names)\u001b[39m\n\u001b[32m   6468\u001b[39m                     level_values = algorithms.take(\n\u001b[32m   6469\u001b[39m                         level_values, lab, allow_fill=\u001b[38;5;28;01mTrue\u001b[39;00m, fill_value=lev._na_value\n\u001b[32m   6470\u001b[39m                     )\n\u001b[32m   6471\u001b[39m \n\u001b[32m-> \u001b[39m\u001b[32m6472\u001b[39m                 new_obj.insert(\n\u001b[32m   6473\u001b[39m                     \u001b[32m0\u001b[39m,\n\u001b[32m   6474\u001b[39m                     name,\n\u001b[32m   6475\u001b[39m                     level_values,\n",
      "\u001b[32m~/anaconda3/envs/bayer/lib/python3.11/site-packages/pandas/core/frame.py\u001b[39m in \u001b[36m?\u001b[39m\u001b[34m(self, loc, column, value, allow_duplicates)\u001b[39m\n\u001b[32m   5154\u001b[39m                 \u001b[33m\"'self.flags.allows_duplicate_labels' is False.\"\u001b[39m\n\u001b[32m   5155\u001b[39m             )\n\u001b[32m   5156\u001b[39m         \u001b[38;5;28;01mif\u001b[39;00m \u001b[38;5;28;01mnot\u001b[39;00m allow_duplicates \u001b[38;5;28;01mand\u001b[39;00m column \u001b[38;5;28;01min\u001b[39;00m self.columns:\n\u001b[32m   5157\u001b[39m             \u001b[38;5;66;03m# Should this be a different kind of error??\u001b[39;00m\n\u001b[32m-> \u001b[39m\u001b[32m5158\u001b[39m             \u001b[38;5;28;01mraise\u001b[39;00m ValueError(\u001b[33mf\"cannot insert {column}, already exists\"\u001b[39m)\n\u001b[32m   5159\u001b[39m         \u001b[38;5;28;01mif\u001b[39;00m \u001b[38;5;28;01mnot\u001b[39;00m is_integer(loc):\n\u001b[32m   5160\u001b[39m             \u001b[38;5;28;01mraise\u001b[39;00m TypeError(\u001b[33m\"loc must be int\"\u001b[39m)\n\u001b[32m   5161\u001b[39m         \u001b[38;5;66;03m# convert non stdlib ints to satisfy typing checks\u001b[39;00m\n",
      "\u001b[31mValueError\u001b[39m: cannot insert level_0, already exists"
     ]
    }
   ],
   "source": [
    "r2, R2, MAE, rmse = train_GNN(train, 'smiles', 'measured log solubility in mols per litre', '/Users/kerrinjanssen/Nextcloud/PhD/Bayer/XAI/test-GNN/')"
   ]
  },
  {
   "cell_type": "code",
   "execution_count": null,
   "id": "edc39554",
   "metadata": {},
   "outputs": [],
   "source": [
    "print(r2, R2, MAE, rmse)"
   ]
  },
  {
   "cell_type": "code",
   "execution_count": null,
   "id": "e89c2f8a",
   "metadata": {},
   "outputs": [],
   "source": [
    "def get_best_reg_model_with_GNN(model_types, ALLfeatureCOLUMS, train, Target_Column_Name, working_dir):\n",
    "    results = []\n",
    "\n",
    "    for model_arc in model_types:          \n",
    "        for feature in ALLfeatureCOLUMS:\n",
    "            model, r2, R2, MAE, RMSE = hp_search_helper(model_arc,train,Target_Column_Name,[str(feature)])\n",
    "            results.append({'Feature': feature,'Model_Type': model_arc,'Model': model,'r2': r2,'R2': R2,'MAE': MAE,'RMSE': RMSE})\n",
    "    r2, R2, MAE, RMSE = train_GNN(train, 'smiles_std', Target_Column_Name, working_dir)#############################\n",
    "    results.append({'Feature': 'SimpleMoleculeMolGraphFeaturizer','Model_Type': 'SklChemprop','Model': 'SklChemprop','r2': r2,'R2': R2,'MAE': MAE,'RMSE': RMSE})##################\n",
    "    \n",
    "\n",
    "    results_df = pd.DataFrame(results)\n",
    "    best_model_row = results_df.loc[results_df['MAE'].idxmin()]\n",
    "    model = best_model_row['Model']\n",
    "    print('Best Model: ', best_model_row['Model'])\n",
    "    print('With a MAE of: ', best_model_row['MAE'])\n",
    "    print('Feature: ', best_model_row['Feature'])\n",
    "    results_df.to_csv(working_dir + \"Grid-Search.csv\", index=False)\n",
    "\n",
    "    #pick feature function\n",
    "    if best_model_row['Feature'] == 'Morgan_Fingerprint 2048Bit 2rad':\n",
    "        feature_function = get_morgan_fingerprint\n",
    "    if best_model_row['Feature'] == 'RDK_Fingerprint':\n",
    "        feature_function = get_RDK_fingerprint\n",
    "    if best_model_row['Feature'] == 'MACCS_Fingerprint':\n",
    "        feature_function = get_MACCS_fingerprint\n",
    "\n",
    "    featureCOLUMS = [best_model_row['Feature']]\n",
    "\n",
    "    return model, feature_function, featureCOLUMS"
   ]
  },
  {
   "cell_type": "code",
   "execution_count": 208,
   "id": "be4e737e",
   "metadata": {},
   "outputs": [
    {
     "name": "stdout",
     "output_type": "stream",
     "text": [
      "SklChemprop\n"
     ]
    }
   ],
   "source": [
    "class_name = model.__class__.__name__\n",
    "print(class_name)"
   ]
  },
  {
   "cell_type": "code",
   "execution_count": null,
   "id": "10514a1f",
   "metadata": {},
   "outputs": [],
   "source": [
    "# built a model on the trainingset ---------------------------------------\n",
    "#get model, r2, R2, MAE, RMSE on the trainingset\n",
    "#feed into get_best_reg_model\n",
    "#if its not the best model delete the checkpoints folder\n",
    "#do something like train_and_evaluate_reg_model but for chemprop\n",
    "#work around this one: model = pickle.load(open(working_dir + \"model.pkl\", 'rb'))\n",
    "\n",
    "#attribute_atoms\n",
    "#be able to mimic prediction = model.predict(prep_features_mutat) \n",
    "#same in the next step\n",
    "\n",
    "#add_predictions\n",
    "#be able to mimic predictions_1 = model.predict(X_data_attributions_1)\n",
    "\n",
    "#model.named_steps['model'].__class__.__name__\n"
   ]
  },
  {
   "cell_type": "code",
   "execution_count": 200,
   "id": "f9292bc4",
   "metadata": {},
   "outputs": [
    {
     "name": "stderr",
     "output_type": "stream",
     "text": [
      "💡 Tip: For seamless cloud uploads and versioning, try installing [litmodels](https://pypi.org/project/litmodels/) to enable LitModelCheckpoint, which syncs automatically with the Lightning model registry.\n",
      "GPU available: True (mps), used: False\n",
      "TPU available: False, using: 0 TPU cores\n",
      "HPU available: False, using: 0 HPUs\n"
     ]
    }
   ],
   "source": [
    "#model = mpnn\n",
    "predictions = model.predict(test)\n"
   ]
  },
  {
   "cell_type": "code",
   "execution_count": 201,
   "id": "2785bf46",
   "metadata": {},
   "outputs": [
    {
     "data": {
      "image/png": "[encoded data removed]",
      "text/plain": [
       "<Figure size 640x480 with 1 Axes>"
      ]
     },
     "metadata": {},
     "output_type": "display_data"
    }
   ],
   "source": [
    "Xaxes = predictions\n",
    "Yaxes = test['measured log solubility in mols per litre']\n",
    "\n",
    "from sklearn.metrics import r2_score\n",
    "r2 = r2_score(Yaxes, Xaxes)\n",
    "\n",
    "plt.rcParams['font.family'] = 'arial'\n",
    "plt.plot(Xaxes, Yaxes, '.', markersize=10, alpha=0.5)\n",
    "plt.xlabel('pred', fontsize=18)\n",
    "plt.ylabel('target', fontsize=18)\n",
    "plt.tick_params(labelsize=16)\n",
    "plt.legend(['$r^2$ = ' + str(f\"{r2:.2f}\")], fontsize=16)#, loc=placeLegend\n",
    "plt.show()"
   ]
  },
  {
   "cell_type": "markdown",
   "id": "f5679a4e",
   "metadata": {},
   "source": [
    "# Example single"
   ]
  },
  {
   "cell_type": "code",
   "execution_count": null,
   "id": "d72936ec",
   "metadata": {},
   "outputs": [
    {
     "name": "stderr",
     "output_type": "stream",
     "text": [
      "The return type of make_split_indices has changed in v2.1 - see help(make_split_indices)\n",
      "GPU available: True (mps), used: True\n",
      "TPU available: False, using: 0 TPU cores\n",
      "HPU available: False, using: 0 HPUs\n",
      "/Users/kerrinjanssen/anaconda3/envs/chemprop/lib/python3.11/site-packages/lightning/pytorch/callbacks/model_checkpoint.py:658: Checkpoint directory /Users/kerrinjanssen/Nextcloud/PhD/Bayer/XAI/test-GNN/checkpoints exists and is not empty.\n",
      "Loading `train_dataloader` to estimate number of stepping batches.\n",
      "/Users/kerrinjanssen/anaconda3/envs/chemprop/lib/python3.11/site-packages/lightning/pytorch/trainer/connectors/data_connector.py:425: The 'train_dataloader' does not have many workers which may be a bottleneck. Consider increasing the value of the `num_workers` argument` to `num_workers=7` in the `DataLoader` to improve performance.\n",
      "\n",
      "  | Name            | Type               | Params | Mode \n",
      "---------------------------------------------------------------\n",
      "0 | message_passing | BondMessagePassing | 227 K  | train\n",
      "1 | agg             | MeanAggregation    | 0      | train\n",
      "2 | bn              | BatchNorm1d        | 600    | train\n",
      "3 | predictor       | RegressionFFN      | 90.6 K | train\n",
      "4 | X_d_transform   | Identity           | 0      | train\n",
      "5 | metrics         | ModuleList         | 0      | train\n",
      "---------------------------------------------------------------\n",
      "318 K     Trainable params\n",
      "0         Non-trainable params\n",
      "318 K     Total params\n",
      "1.276     Total estimated model params size (MB)\n",
      "25        Modules in train mode\n",
      "0         Modules in eval mode\n"
     ]
    },
    {
     "name": "stdout",
     "output_type": "stream",
     "text": [
      "Sanity Checking DataLoader 0:   0%|          | 0/2 [00:00<?, ?it/s]"
     ]
    },
    {
     "name": "stderr",
     "output_type": "stream",
     "text": [
      "/Users/kerrinjanssen/anaconda3/envs/chemprop/lib/python3.11/site-packages/lightning/pytorch/trainer/connectors/data_connector.py:425: The 'val_dataloader' does not have many workers which may be a bottleneck. Consider increasing the value of the `num_workers` argument` to `num_workers=7` in the `DataLoader` to improve performance.\n"
     ]
    },
    {
     "name": "stdout",
     "output_type": "stream",
     "text": [
      "Epoch 19: 100%|██████████| 53/53 [00:06<00:00,  8.53it/s, train_loss_step=0.0781, val_loss=0.276, train_loss_epoch=0.104]"
     ]
    },
    {
     "name": "stderr",
     "output_type": "stream",
     "text": [
      "`Trainer.fit` stopped: `max_epochs=20` reached.\n"
     ]
    },
    {
     "name": "stdout",
     "output_type": "stream",
     "text": [
      "Epoch 19: 100%|██████████| 53/53 [00:06<00:00,  8.50it/s, train_loss_step=0.0781, val_loss=0.276, train_loss_epoch=0.104]"
     ]
    },
    {
     "name": "stderr",
     "output_type": "stream",
     "text": [
      "/Users/kerrinjanssen/anaconda3/envs/chemprop/lib/python3.11/site-packages/lightning/pytorch/trainer/connectors/checkpoint_connector.py:149: `.test(ckpt_path=None)` was called without a model. The best model of the previous `fit` call will be used. You can pass `.test(ckpt_path='best')` to use the best model or `.test(ckpt_path='last')` to use the last model. If you pass a value, this warning will be silenced.\n",
      "Restoring states from the checkpoint path at /Users/kerrinjanssen/Nextcloud/PhD/Bayer/XAI/test-GNN/checkpoints/best-epoch=17-val_loss=0.26.ckpt\n",
      "Loaded model weights from the checkpoint at /Users/kerrinjanssen/Nextcloud/PhD/Bayer/XAI/test-GNN/checkpoints/best-epoch=17-val_loss=0.26.ckpt\n"
     ]
    },
    {
     "name": "stdout",
     "output_type": "stream",
     "text": [
      "\n"
     ]
    },
    {
     "name": "stderr",
     "output_type": "stream",
     "text": [
      "/Users/kerrinjanssen/anaconda3/envs/chemprop/lib/python3.11/site-packages/lightning/pytorch/trainer/connectors/data_connector.py:425: The 'test_dataloader' does not have many workers which may be a bottleneck. Consider increasing the value of the `num_workers` argument` to `num_workers=7` in the `DataLoader` to improve performance.\n"
     ]
    },
    {
     "name": "stdout",
     "output_type": "stream",
     "text": [
      "Testing DataLoader 0: 100%|██████████| 7/7 [00:00<00:00, 11.53it/s]\n"
     ]
    },
    {
     "data": {
      "text/html": [
       "<pre style=\"white-space:pre;overflow-x:auto;line-height:normal;font-family:Menlo,'DejaVu Sans Mono',consolas,'Courier New',monospace\">┏━━━━━━━━━━━━━━━━━━━━━━━━━━━┳━━━━━━━━━━━━━━━━━━━━━━━━━━━┓\n",
       "┃<span style=\"font-weight: bold\">        Test metric        </span>┃<span style=\"font-weight: bold\">       DataLoader 0        </span>┃\n",
       "┡━━━━━━━━━━━━━━━━━━━━━━━━━━━╇━━━━━━━━━━━━━━━━━━━━━━━━━━━┩\n",
       "│<span style=\"color: #008080; text-decoration-color: #008080\">         test/mae          </span>│<span style=\"color: #800080; text-decoration-color: #800080\">    0.4493488073348999     </span>│\n",
       "│<span style=\"color: #008080; text-decoration-color: #008080\">         test/rmse         </span>│<span style=\"color: #800080; text-decoration-color: #800080\">    0.5906854867935181     </span>│\n",
       "└───────────────────────────┴───────────────────────────┘\n",
       "</pre>\n"
      ],
      "text/plain": [
       "┏━━━━━━━━━━━━━━━━━━━━━━━━━━━┳━━━━━━━━━━━━━━━━━━━━━━━━━━━┓\n",
       "┃\u001b[1m \u001b[0m\u001b[1m       Test metric       \u001b[0m\u001b[1m \u001b[0m┃\u001b[1m \u001b[0m\u001b[1m      DataLoader 0       \u001b[0m\u001b[1m \u001b[0m┃\n",
       "┡━━━━━━━━━━━━━━━━━━━━━━━━━━━╇━━━━━━━━━━━━━━━━━━━━━━━━━━━┩\n",
       "│\u001b[36m \u001b[0m\u001b[36m        test/mae         \u001b[0m\u001b[36m \u001b[0m│\u001b[35m \u001b[0m\u001b[35m   0.4493488073348999    \u001b[0m\u001b[35m \u001b[0m│\n",
       "│\u001b[36m \u001b[0m\u001b[36m        test/rmse        \u001b[0m\u001b[36m \u001b[0m│\u001b[35m \u001b[0m\u001b[35m   0.5906854867935181    \u001b[0m\u001b[35m \u001b[0m│\n",
       "└───────────────────────────┴───────────────────────────┘\n"
      ]
     },
     "metadata": {},
     "output_type": "display_data"
    }
   ],
   "source": [
    "df_input = pd.read_csv('/Users/kerrinjanssen/Nextcloud/PhD/Bayer/XAI/test-GNN/Lipophilicity.csv')\n",
    "num_workers = 0 # number of workers for dataloader. 0 means using main process for data loading\n",
    "smiles_column = 'smiles' # name of the column containing SMILES strings\n",
    "target_columns = ['y'] # list of names of the columns containing targets\n",
    "smis = df_input.loc[:, smiles_column].values\n",
    "ys = df_input.loc[:, target_columns].values\n",
    "all_data = [data.MoleculeDatapoint.from_smi(smi, y) for smi, y in zip(smis, ys)]\n",
    "list(data.SplitType.keys())\n",
    "mols = [d.mol for d in all_data]  # RDkit Mol objects are use for structure based splits\n",
    "train_indices, val_indices, test_indices = data.make_split_indices(mols, \"random\", (0.8, 0.1, 0.1))  # unpack the tuple into three separate lists\n",
    "train_data, val_data, test_data = data.split_data_by_indices(\n",
    "    all_data, train_indices, val_indices, test_indices\n",
    ")\n",
    "featurizer = featurizers.SimpleMoleculeMolGraphFeaturizer()\n",
    "\n",
    "train_dset = data.MoleculeDataset(train_data[0], featurizer)\n",
    "scaler = train_dset.normalize_targets()\n",
    "\n",
    "val_dset = data.MoleculeDataset(val_data[0], featurizer)\n",
    "val_dset.normalize_targets(scaler)\n",
    "\n",
    "test_dset = data.MoleculeDataset(test_data[0], featurizer)\n",
    "\n",
    "\n",
    "\n",
    "train_loader = data.build_dataloader(train_dset, num_workers=num_workers)\n",
    "val_loader = data.build_dataloader(val_dset, num_workers=num_workers, shuffle=False)\n",
    "test_loader = data.build_dataloader(test_dset, num_workers=num_workers, shuffle=False)\n",
    "\n",
    "\n",
    "\n",
    "mp = nn.BondMessagePassing()\n",
    "\n",
    "\n",
    "agg = nn.MeanAggregation()\n",
    "\n",
    "\n",
    "\n",
    "output_transform = nn.UnscaleTransform.from_standard_scaler(scaler)\n",
    "\n",
    "\n",
    "\n",
    "ffn = nn.RegressionFFN(output_transform=output_transform)\n",
    "\n",
    "\n",
    "\n",
    "batch_norm = True\n",
    "metric_list = [nn.metrics.RMSE(), nn.metrics.MAE()]\n",
    "mpnn = models.MPNN(mp, agg, ffn, batch_norm, metric_list)\n",
    "\n",
    "# Checkpointing?\n",
    "checkpointing = ModelCheckpoint(\n",
    "\"/Users/kerrinjanssen/Nextcloud/PhD/Bayer/XAI/test-GNN/checkpoints\",  # Directory where model checkpoints will be saved\n",
    "\"best-{epoch}-{val_loss:.2f}\",  # Filename format for checkpoints, including epoch and validation loss\n",
    "\"val_loss\",  # Metric used to select the best checkpoint (based on validation loss)\n",
    "mode=\"min\",  # Save the checkpoint with the lowest validation loss (minimization objective)\n",
    "save_last=True,  # Always save the most recent checkpoint, even if it's not the best\n",
    ")\n",
    "\n",
    "trainer = pl.Trainer(\n",
    "    logger=False,\n",
    "    enable_checkpointing=True, # Use `True` if you want to save model checkpoints. The checkpoints will be saved in the `checkpoints` folder.\n",
    "    enable_progress_bar=True,\n",
    "    accelerator=\"auto\",\n",
    "    devices=1,\n",
    "    max_epochs=20, # number of epochs to train for\n",
    "    callbacks=[checkpointing], # Use the configured checkpoint callback\n",
    ")\n",
    "\n",
    "\n",
    "trainer.fit(mpnn, train_loader, val_loader)\n",
    "\n",
    "\n",
    "\n",
    "results = trainer.test(dataloaders=test_loader)\n",
    "\n",
    "\n"
   ]
  },
  {
   "cell_type": "markdown",
   "id": "2f12bd86",
   "metadata": {},
   "source": [
    "## Pred"
   ]
  },
  {
   "cell_type": "code",
   "execution_count": 320,
   "id": "070c91bd",
   "metadata": {},
   "outputs": [
    {
     "name": "stderr",
     "output_type": "stream",
     "text": [
      "💡 Tip: For seamless cloud uploads and versioning, try installing [litmodels](https://pypi.org/project/litmodels/) to enable LitModelCheckpoint, which syncs automatically with the Lightning model registry.\n",
      "GPU available: True (mps), used: False\n",
      "TPU available: False, using: 0 TPU cores\n",
      "HPU available: False, using: 0 HPUs\n",
      "/Users/kerrinjanssen/anaconda3/envs/chemprop/lib/python3.11/site-packages/lightning/pytorch/trainer/setup.py:177: GPU available but not used. You can set it by doing `Trainer(accelerator='gpu')`.\n",
      "/Users/kerrinjanssen/anaconda3/envs/chemprop/lib/python3.11/site-packages/lightning/pytorch/core/saving.py:363: Skipping 'metrics' parameter because it is not possible to safely dump to YAML.\n",
      "/Users/kerrinjanssen/anaconda3/envs/chemprop/lib/python3.11/site-packages/lightning/pytorch/trainer/connectors/data_connector.py:425: The 'predict_dataloader' does not have many workers which may be a bottleneck. Consider increasing the value of the `num_workers` argument` to `num_workers=7` in the `DataLoader` to improve performance.\n"
     ]
    },
    {
     "name": "stdout",
     "output_type": "stream",
     "text": [
      "Predicting DataLoader 0: 100%|██████████| 7/7 [00:00<00:00, 27.69it/s]\n"
     ]
    }
   ],
   "source": [
    "mpnn = models.MPNN.load_from_checkpoint('/Users/kerrinjanssen/Nextcloud/PhD/Bayer/XAI/test-GNN/checkpoints/best-epoch=17-val_loss=0.26.ckpt')\n",
    "\n",
    "#loader etc from previous\n",
    "with torch.inference_mode():\n",
    "    trainer = pl.Trainer(\n",
    "        logger=None,\n",
    "        enable_progress_bar=True,\n",
    "        accelerator=\"cpu\",\n",
    "        devices=1\n",
    "    )\n",
    "    test_preds = trainer.predict(mpnn, test_loader)\n",
    "test_preds = np.concatenate(test_preds, axis=0)"
   ]
  },
  {
   "cell_type": "code",
   "execution_count": 322,
   "id": "5387fa53",
   "metadata": {},
   "outputs": [
    {
     "data": {
      "text/plain": [
       "420"
      ]
     },
     "execution_count": 322,
     "metadata": {},
     "output_type": "execute_result"
    }
   ],
   "source": [
    "len(test_preds)"
   ]
  },
  {
   "cell_type": "code",
   "execution_count": 314,
   "id": "befe0891",
   "metadata": {},
   "outputs": [
    {
     "data": {
      "text/plain": [
       "420"
      ]
     },
     "execution_count": 314,
     "metadata": {},
     "output_type": "execute_result"
    }
   ],
   "source": [
    "y_values = [datapoint.y for datapoint in test_data[0]]\n",
    "len(y_values)"
   ]
  },
  {
   "cell_type": "code",
   "execution_count": 327,
   "id": "82bf95bb",
   "metadata": {},
   "outputs": [
    {
     "data": {
      "image/png": "[encoded data removed]",
      "text/plain": [
       "<Figure size 640x480 with 1 Axes>"
      ]
     },
     "metadata": {},
     "output_type": "display_data"
    }
   ],
   "source": [
    "Xaxes = test_preds\n",
    "Yaxes = [datapoint.y for datapoint in test_data[0]]\n",
    "\n",
    "#r2 = np.corrcoef(Yaxes, Xaxes)[0, 1] ** 2\n",
    "\n",
    "from sklearn.metrics import r2_score\n",
    "r2 = r2_score(Yaxes, Xaxes)\n",
    "\n",
    "plt.rcParams['font.family'] = 'arial'\n",
    "plt.plot(Xaxes, Yaxes, '.', markersize=10, alpha=0.5)\n",
    "plt.xlabel('pred', fontsize=18)\n",
    "plt.ylabel('target', fontsize=18)\n",
    "plt.tick_params(labelsize=16)\n",
    "plt.legend(['$r^2$ = ' + str(f\"{r2:.2f}\")], fontsize=16)#, loc=placeLegend\n",
    "plt.show()"
   ]
  },
  {
   "cell_type": "markdown",
   "id": "aefc0f61",
   "metadata": {},
   "source": [
    "# Example Multi"
   ]
  },
  {
   "cell_type": "code",
   "execution_count": 176,
   "id": "49835abf",
   "metadata": {},
   "outputs": [],
   "source": [
    "chemprop_dir = Path.cwd().parent\n",
    "input_path = \"/Users/kerrinjanssen/Nextcloud/PhD/Bayer/XAI/test-GNN/mol+mol.csv\"\n",
    "smiles_columns = ['smiles', 'solvent'] # name of the column containing SMILES strings\n",
    "target_columns = ['peakwavs_max'] # list of names of the columns containing targets"
   ]
  },
  {
   "cell_type": "code",
   "execution_count": 177,
   "id": "6a8383b5",
   "metadata": {},
   "outputs": [
    {
     "data": {
      "application/vnd.microsoft.datawrangler.viewer.v0+json": {
       "columns": [
        {
         "name": "index",
         "rawType": "int64",
         "type": "integer"
        },
        {
         "name": "smiles",
         "rawType": "object",
         "type": "string"
        },
        {
         "name": "solvent",
         "rawType": "object",
         "type": "string"
        },
        {
         "name": "peakwavs_max",
         "rawType": "float64",
         "type": "float"
        }
       ],
       "ref": "534afbe6-88bb-4d37-94f1-c4c6317098ae",
       "rows": [
        [
         "0",
         "CCCCN1C(=O)C(=C/C=C/C=C/C=C2N(CCCC)c3ccccc3N2CCCC)C(=O)N(CCCC)C1=S",
         "ClCCl",
         "642.0"
        ],
        [
         "1",
         "C(=C/c1cnccn1)\\c1ccc(N(c2ccccc2)c2ccc(/C=C/c3cnccn3)cc2)cc1",
         "ClCCl",
         "420.0"
        ],
        [
         "2",
         "CN(C)c1ccc2c(-c3ccc(N)cc3C(=O)[O-])c3ccc(=[N+](C)C)cc-3oc2c1",
         "O",
         "544.0"
        ],
        [
         "3",
         "c1ccc2[nH]ccc2c1",
         "O",
         "290.0"
        ],
        [
         "4",
         "CCN(CC)c1ccc2c(c1)OC1=C(/C=C/C3=[N+](C)c4ccc5ccccc5c4C3(C)C)CCCC1=C2c1ccccc1C(=O)O",
         "ClC(Cl)Cl",
         "736.0"
        ],
        [
         "5",
         "CCN1/C(=C\\C=C\\C=C\\C2=[N+](CC)c3ccc4ccccc4c3C2(C)C)C(C)(C)c2c1ccc1ccccc21",
         "CC(C)=O",
         "680.0"
        ],
        [
         "6",
         "O=C([O-])c1c(Cl)c(Cl)c(Cl)c(Cl)c1-c1c2cc(I)c(=O)c(I)c-2oc2c(I)c([O-])c(I)cc12",
         "CC(C)O",
         "561.0"
        ],
        [
         "7",
         "O=P(c1c2ccccc2cc2ccccc12)(c1c2ccccc2cc2ccccc12)c1c2ccccc2cc2ccccc12",
         "C1CCOC1",
         "411.0"
        ],
        [
         "8",
         "COc1ccc(/C=C/c2nc(-c3ccc(C)cc3)[nH]c2/C=C/c2ccc(OC)cc2)cc1",
         "ClCCl",
         "375.0"
        ],
        [
         "9",
         "CN1CCN(c2ccc3c4c(cccc24)C(=O)c2ccccc2-3)CC1",
         "C1CCCCC1",
         "428.2"
        ],
        [
         "10",
         "COc1ccc(/C=C/C2=CC(/C=C/c3ccc(OC)c(OC)c3)=[O+][B-](F)(F)O2)cc1OC",
         "CS(C)=O",
         "513.0"
        ],
        [
         "11",
         "Nc1cc2ccc3cccc4ccc(c1)c2c34",
         "CC#N",
         "338.0"
        ],
        [
         "12",
         "C(#Cc1ccncc1)C(C#Cc1ccncc1)=Cc1ccc(C=C(C#Cc2ccncc2)C#Cc2ccncc2)s1",
         "ClC(Cl)Cl",
         "522.0"
        ],
        [
         "13",
         "CN(C)c1cccc(/C=C/c2ncc(-c3ccc(OCc4ccccc4)c(OCc4ccccc4)c3)o2)c1",
         "ClCCl",
         "350.0"
        ],
        [
         "14",
         "CCN(CC)c1ccc2nc3ccc(=[N+](CC)CC)cc-3oc2c1",
         "CCCCCCc1ccc(-c2ccc(C#N)cc2)cc1",
         "662.0"
        ],
        [
         "15",
         "CN1c2ccccc2C(O)(c2ccccc2)c2cc([N+](=O)[O-])ccc21",
         "CCO",
         "393.7"
        ],
        [
         "16",
         "CN(C)CCCN1c2ccccc2Sc2ccc(Cl)cc21",
         "CC#N",
         "312.0"
        ],
        [
         "17",
         "N#Cc1ccc(N2c3ccccc3C(c3ccccc3)(c3ccccc3)c3ccccc32)cc1",
         "Cc1ccccc1",
         "352.0"
        ],
        [
         "18",
         "CCN1/C(=C\\C2=C([O-])/C(=C/C3=[N+](CC)c4c(ccc5ccc(C)nc45)C3(C)C)C2=O)C(C)(C)c2ccc3ccc(C)nc3c21",
         "C1CCCCC1",
         "682.0"
        ],
        [
         "19",
         "CN1C(=O)c2cccc3c(-n4c5ccccc5c5ccccc54)ccc(c23)C1=O",
         "CCCCCC",
         "402.0"
        ],
        [
         "20",
         "COc1ccc(C2=C(c3ccccc3)C(c3ccccc3)=[N+]3C2=Nc2c(-c4ccc(OC)cc4)c(-c4ccccc4)c(-c4ccccc4)n2[B-]3(F)F)cc1",
         "Cc1ccccc1",
         "656.0"
        ],
        [
         "21",
         "Cc1ccc(C2=C3C=CC(c4ccccc4)=[N+]3[B-](F)(F)n3c2ccc3-c2ccccc2)cc1",
         "C1CCOC1",
         "553.0"
        ],
        [
         "22",
         "CCCCCCCCN1C(=O)c2ccc3c4c(-c5ccc6c(c5)c5ccccc5n6-c5ccccc5)cc5c6c(cc(-c7ccc8c(c7)c7ccccc7n8-c7ccccc7)c(c7ccc(c2c37)C1=O)c64)C(=O)N(CCCCCCCC)C5=O",
         "ClC(Cl)Cl",
         "563.0"
        ],
        [
         "23",
         "CC1=C(C(C)(C)C)C(C)=[N+]2C1=C(C)c1c(C)c(C(C)(C)C)c(C)n1[B-]2(F)F",
         "C1CCCCC1",
         "529.0"
        ],
        [
         "24",
         "O=c1oc2ccc3ccccc3c2nc1-c1ccc(Cl)cc1",
         "c1ccccc1",
         "404.0"
        ],
        [
         "25",
         "CCN1CCN(c2ccc(/N=N/c3cc([N+](=O)[O-])cc([N+](=O)[O-])c3)cc2)CC1",
         "CCOC(C)=O",
         "454.0"
        ],
        [
         "26",
         "N#CC(C#N)=C(/C=C/c1ccc(N(c2ccccc2)c2ccccc2)cc1)c1ccccc1",
         "C1COCCO1",
         "480.0"
        ],
        [
         "27",
         "Cc1ccc(C)cc1",
         "C1CCCCC1",
         "262.8811777"
        ],
        [
         "28",
         "CC(C)CCCCN1CCc2c1ccc1c3c(ccc21)CCCC3=O",
         "Cc1ccccc1",
         "426.0"
        ],
        [
         "29",
         "[O-]c1c(-c2ccccc2)cc(-[n+]2c(-c3ccccc3)cc(-c3ccccc3)cc2-c2ccccc2)cc1-c1ccccc1",
         "ClC(Cl)Cl",
         "731.2276215"
        ],
        [
         "30",
         "CCCCCN(c1ccccc1)c1ccc2c(c1)C(CC)(CC)c1cc(/C=C/c3ccc(/C=C(\\C#N)C(=O)O)s3)ccc1-2",
         "CC#N",
         "430.0"
        ],
        [
         "31",
         "c1ccc(-c2ccc(-c3ccc(N(c4ccccc4)c4ccccc4)cc3)c3nsnc23)cc1",
         "C1CCOC1",
         "437.0"
        ],
        [
         "32",
         "COC(=O)c1ccc2c3ccc(C(=O)OC)c4c(C(=O)OC)ccc(c5ccc(C(=O)OC)c1c25)c43",
         "ClC(Cl)Cl",
         "469.0"
        ],
        [
         "33",
         "Cc1ccc(C(=O)NN2C3=C(CC4=C2CCCC4=O)C(=O)CCC3)cc1",
         "CC(C)=O",
         "366.0"
        ],
        [
         "34",
         "CCn1ncc2c3c(C#N)c4c5ccccc5n(C)c4nc3ccc21",
         "CCOC(C)=O",
         "383.0"
        ],
        [
         "35",
         "CCOc1ccc2cc(-c3ccc(C)cc3)c(=O)oc2c1",
         "CCCCCC",
         "338.0"
        ],
        [
         "36",
         "CCn1c2ccccc2c2cc(-c3cc(-c4ccc5c(c4)c4ccccc4n5CC)nc(S(C)(=O)=O)n3)ccc21",
         "ClCCl",
         "384.0"
        ],
        [
         "37",
         "COC(=O)c1c2ccccc2nc2ccccc12",
         "CCCO",
         "361.0"
        ],
        [
         "38",
         "CCOC(=O)COc1ccc(C(c2c(C)[nH]c3ccccc23)c2c(C)[nH]c3ccccc23)cc1",
         "CO",
         "290.0"
        ],
        [
         "39",
         "CN(C)c1ccc(/C=C/C=C2\\CC/C(=C\\C=C\\c3ccc(N(C)C)cc3)C2=O)cc1",
         "CCCCCC",
         "478.0"
        ],
        [
         "40",
         "N#Cc1ccc(/C=C/C=C/c2ccccc2)cc1",
         "CC#N",
         "344.0"
        ],
        [
         "41",
         "CSc1sc(C(C)=O)c2nn[nH]c(=O)c12",
         "CCO",
         "397.0"
        ],
        [
         "42",
         "CN(C)c1ccc2c(c1)C(C)(C)C(=O)C=C2",
         "O",
         "413.0"
        ],
        [
         "43",
         "O=C1NC(=O)/C(=C\\c2ccccc2O)S1",
         "OCC(O)CO",
         "364.0"
        ],
        [
         "44",
         "O=Cc1ccc2c(c1)c1ccccc1n2-c1cc2ccccc2c2ccccc12",
         "CCCCC",
         "313.0"
        ],
        [
         "45",
         "CN(C)CCCN1c2ccccc2CCc2ccccc21",
         "O",
         "275.0"
        ],
        [
         "46",
         "Cc1ccc(-n2c(-c3ccccc3[NH-])[nH+]c3c4ccccc4c4ccccc4c32)cc1",
         "Cc1ccccc1",
         "363.0"
        ],
        [
         "47",
         "C[n+]1ccc(/C=C/c2ccc([O-])cc2)cc1",
         "CCO",
         "515.0"
        ],
        [
         "48",
         "CC(C)(C)c1ccc2c(c1)c1cc(C(C)(C)C)ccc1n2-c1nc2ccccc2nc1-n1c2ccc(C(C)(C)C)cc2c2cc(C(C)(C)C)ccc21",
         "Cc1ccccc1",
         "419.0"
        ],
        [
         "49",
         "CC(C)[Si]1(C(C)C)c2cc(C#N)ccc2-c2ccc(N(C)C)cc21",
         "ClCCl",
         "368.0"
        ]
       ],
       "shape": {
        "columns": 3,
        "rows": 100
       }
      },
      "text/html": [
       "<div>\n",
       "<style scoped>\n",
       "    .dataframe tbody tr th:only-of-type {\n",
       "        vertical-align: middle;\n",
       "    }\n",
       "\n",
       "    .dataframe tbody tr th {\n",
       "        vertical-align: top;\n",
       "    }\n",
       "\n",
       "    .dataframe thead th {\n",
       "        text-align: right;\n",
       "    }\n",
       "</style>\n",
       "<table border=\"1\" class=\"dataframe\">\n",
       "  <thead>\n",
       "    <tr style=\"text-align: right;\">\n",
       "      <th></th>\n",
       "      <th>smiles</th>\n",
       "      <th>solvent</th>\n",
       "      <th>peakwavs_max</th>\n",
       "    </tr>\n",
       "  </thead>\n",
       "  <tbody>\n",
       "    <tr>\n",
       "      <th>0</th>\n",
       "      <td>CCCCN1C(=O)C(=C/C=C/C=C/C=C2N(CCCC)c3ccccc3N2C...</td>\n",
       "      <td>ClCCl</td>\n",
       "      <td>642.0</td>\n",
       "    </tr>\n",
       "    <tr>\n",
       "      <th>1</th>\n",
       "      <td>C(=C/c1cnccn1)\\c1ccc(N(c2ccccc2)c2ccc(/C=C/c3c...</td>\n",
       "      <td>ClCCl</td>\n",
       "      <td>420.0</td>\n",
       "    </tr>\n",
       "    <tr>\n",
       "      <th>2</th>\n",
       "      <td>CN(C)c1ccc2c(-c3ccc(N)cc3C(=O)[O-])c3ccc(=[N+]...</td>\n",
       "      <td>O</td>\n",
       "      <td>544.0</td>\n",
       "    </tr>\n",
       "    <tr>\n",
       "      <th>3</th>\n",
       "      <td>c1ccc2[nH]ccc2c1</td>\n",
       "      <td>O</td>\n",
       "      <td>290.0</td>\n",
       "    </tr>\n",
       "    <tr>\n",
       "      <th>4</th>\n",
       "      <td>CCN(CC)c1ccc2c(c1)OC1=C(/C=C/C3=[N+](C)c4ccc5c...</td>\n",
       "      <td>ClC(Cl)Cl</td>\n",
       "      <td>736.0</td>\n",
       "    </tr>\n",
       "    <tr>\n",
       "      <th>...</th>\n",
       "      <td>...</td>\n",
       "      <td>...</td>\n",
       "      <td>...</td>\n",
       "    </tr>\n",
       "    <tr>\n",
       "      <th>95</th>\n",
       "      <td>COc1ccc(C2CC(c3ccc(O)cc3)=NN2c2ccc(S(N)(=O)=O)...</td>\n",
       "      <td>C1CCOC1</td>\n",
       "      <td>359.0</td>\n",
       "    </tr>\n",
       "    <tr>\n",
       "      <th>96</th>\n",
       "      <td>COc1ccc2c3c(c4ccc(OC)cc4c2c1)C1(c2ccccc2-c2ccc...</td>\n",
       "      <td>C1CCCCC1</td>\n",
       "      <td>386.0</td>\n",
       "    </tr>\n",
       "    <tr>\n",
       "      <th>97</th>\n",
       "      <td>CCCCOc1c(C=C2N(C)c3ccccc3C2(C)C)c(=O)c1=O</td>\n",
       "      <td>CCO</td>\n",
       "      <td>425.0</td>\n",
       "    </tr>\n",
       "    <tr>\n",
       "      <th>98</th>\n",
       "      <td>Cc1cc2ccc(-c3cccc4cccc(-c5ccc6cc(C)c(=O)oc6c5)...</td>\n",
       "      <td>c1ccccc1</td>\n",
       "      <td>324.0</td>\n",
       "    </tr>\n",
       "    <tr>\n",
       "      <th>99</th>\n",
       "      <td>Cc1ccc(C(=O)c2c(C)c3ccc4cccc5c6cccc7ccc2c(c76)...</td>\n",
       "      <td>ClCCl</td>\n",
       "      <td>391.0</td>\n",
       "    </tr>\n",
       "  </tbody>\n",
       "</table>\n",
       "<p>100 rows × 3 columns</p>\n",
       "</div>"
      ],
      "text/plain": [
       "                                               smiles    solvent  peakwavs_max\n",
       "0   CCCCN1C(=O)C(=C/C=C/C=C/C=C2N(CCCC)c3ccccc3N2C...      ClCCl         642.0\n",
       "1   C(=C/c1cnccn1)\\c1ccc(N(c2ccccc2)c2ccc(/C=C/c3c...      ClCCl         420.0\n",
       "2   CN(C)c1ccc2c(-c3ccc(N)cc3C(=O)[O-])c3ccc(=[N+]...          O         544.0\n",
       "3                                    c1ccc2[nH]ccc2c1          O         290.0\n",
       "4   CCN(CC)c1ccc2c(c1)OC1=C(/C=C/C3=[N+](C)c4ccc5c...  ClC(Cl)Cl         736.0\n",
       "..                                                ...        ...           ...\n",
       "95  COc1ccc(C2CC(c3ccc(O)cc3)=NN2c2ccc(S(N)(=O)=O)...    C1CCOC1         359.0\n",
       "96  COc1ccc2c3c(c4ccc(OC)cc4c2c1)C1(c2ccccc2-c2ccc...   C1CCCCC1         386.0\n",
       "97          CCCCOc1c(C=C2N(C)c3ccccc3C2(C)C)c(=O)c1=O        CCO         425.0\n",
       "98  Cc1cc2ccc(-c3cccc4cccc(-c5ccc6cc(C)c(=O)oc6c5)...   c1ccccc1         324.0\n",
       "99  Cc1ccc(C(=O)c2c(C)c3ccc4cccc5c6cccc7ccc2c(c76)...      ClCCl         391.0\n",
       "\n",
       "[100 rows x 3 columns]"
      ]
     },
     "execution_count": 177,
     "metadata": {},
     "output_type": "execute_result"
    }
   ],
   "source": [
    "df_input = pd.read_csv(input_path)\n",
    "df_input"
   ]
  },
  {
   "cell_type": "code",
   "execution_count": 178,
   "id": "ee133388",
   "metadata": {},
   "outputs": [
    {
     "data": {
      "text/plain": [
       "(array([['CCCCN1C(=O)C(=C/C=C/C=C/C=C2N(CCCC)c3ccccc3N2CCCC)C(=O)N(CCCC)C1=S',\n",
       "         'ClCCl'],\n",
       "        ['C(=C/c1cnccn1)\\\\c1ccc(N(c2ccccc2)c2ccc(/C=C/c3cnccn3)cc2)cc1',\n",
       "         'ClCCl'],\n",
       "        ['CN(C)c1ccc2c(-c3ccc(N)cc3C(=O)[O-])c3ccc(=[N+](C)C)cc-3oc2c1',\n",
       "         'O'],\n",
       "        ['c1ccc2[nH]ccc2c1', 'O'],\n",
       "        ['CCN(CC)c1ccc2c(c1)OC1=C(/C=C/C3=[N+](C)c4ccc5ccccc5c4C3(C)C)CCCC1=C2c1ccccc1C(=O)O',\n",
       "         'ClC(Cl)Cl']], dtype=object),\n",
       " array([[642.],\n",
       "        [420.],\n",
       "        [544.],\n",
       "        [290.],\n",
       "        [736.]]))"
      ]
     },
     "execution_count": 178,
     "metadata": {},
     "output_type": "execute_result"
    }
   ],
   "source": [
    "smiss = df_input.loc[:, smiles_columns].values\n",
    "ys = df_input.loc[:, target_columns].values\n",
    "\n",
    "# Take a look at the first 5 SMILES strings and targets\n",
    "smiss[:5], ys[:5]"
   ]
  },
  {
   "cell_type": "code",
   "execution_count": 179,
   "id": "394ad7f0",
   "metadata": {},
   "outputs": [],
   "source": [
    "all_data = [[data.MoleculeDatapoint.from_smi(smis[0], y) for smis, y in zip(smiss, ys)]]\n",
    "all_data += [[data.MoleculeDatapoint.from_smi(smis[i]) for smis in smiss] for i in range(1, len(smiles_columns))]"
   ]
  },
  {
   "cell_type": "code",
   "execution_count": 180,
   "id": "15c53460",
   "metadata": {},
   "outputs": [
    {
     "name": "stderr",
     "output_type": "stream",
     "text": [
      "The return type of make_split_indices has changed in v2.1 - see help(make_split_indices)\n"
     ]
    }
   ],
   "source": [
    "component_to_split_by = 0 # index of the component to use for structure based splits\n",
    "mols = [d.mol for d in all_data[component_to_split_by]]\n",
    "train_indices, val_indices, test_indices = data.make_split_indices(mols, \"random\", (0.8, 0.1, 0.1))\n",
    "train_data, val_data, test_data = data.split_data_by_indices(\n",
    "    all_data, train_indices, val_indices, test_indices\n",
    ")"
   ]
  },
  {
   "cell_type": "code",
   "execution_count": 181,
   "id": "d0d07983",
   "metadata": {},
   "outputs": [],
   "source": [
    "featurizer = featurizers.SimpleMoleculeMolGraphFeaturizer()\n",
    "\n",
    "train_datasets = [data.MoleculeDataset(train_data[0][i], featurizer) for i in range(len(smiles_columns))]\n",
    "val_datasets = [data.MoleculeDataset(val_data[0][i], featurizer) for i in range(len(smiles_columns))]\n",
    "test_datasets = [data.MoleculeDataset(test_data[0][i], featurizer) for i in range(len(smiles_columns))]"
   ]
  },
  {
   "cell_type": "code",
   "execution_count": 182,
   "id": "d7caac32",
   "metadata": {},
   "outputs": [],
   "source": [
    "train_mcdset = data.MulticomponentDataset(train_datasets)\n",
    "scaler = train_mcdset.normalize_targets()\n",
    "val_mcdset = data.MulticomponentDataset(val_datasets)\n",
    "val_mcdset.normalize_targets(scaler)\n",
    "test_mcdset = data.MulticomponentDataset(test_datasets)"
   ]
  },
  {
   "cell_type": "code",
   "execution_count": 183,
   "id": "59794241",
   "metadata": {},
   "outputs": [],
   "source": [
    "train_loader = data.build_dataloader(train_mcdset)\n",
    "val_loader = data.build_dataloader(val_mcdset, shuffle=False)\n",
    "test_loader = data.build_dataloader(test_mcdset, shuffle=False)"
   ]
  },
  {
   "cell_type": "code",
   "execution_count": null,
   "id": "004892cc",
   "metadata": {},
   "outputs": [],
   "source": [
    "mcmp = nn.MulticomponentMessagePassing(\n",
    "    blocks=[nn.BondMessagePassing() for _ in range(len(smiles_columns))],\n",
    "    n_components=len(smiles_columns),\n",
    ")\n",
    "agg = nn.MeanAggregation()\n",
    "output_transform = nn.UnscaleTransform.from_standard_scaler(scaler)\n",
    "ffn = nn.RegressionFFN(\n",
    "    input_dim=mcmp.output_dim,\n",
    "    output_transform=output_transform,\n",
    ")\n",
    "metric_list = [metrics.RMSE(), metrics.MAE()] \n",
    "mcmpnn = multi.MulticomponentMPNN(\n",
    "    mcmp,\n",
    "    agg,\n",
    "    ffn,\n",
    "    metrics=metric_list,\n",
    ")\n",
    "\n",
    "mcmpnn"
   ]
  },
  {
   "cell_type": "code",
   "execution_count": null,
   "id": "f8553728",
   "metadata": {},
   "outputs": [],
   "source": [
    "mcmp = nn.MulticomponentMessagePassing(\n",
    "    blocks=[nn.BondMessagePassing() for _ in range(len(smiles_columns))],\n",
    "    n_components=len(smiles_columns),\n",
    ")\n"
   ]
  },
  {
   "cell_type": "code",
   "execution_count": 185,
   "id": "3cd33d39",
   "metadata": {},
   "outputs": [],
   "source": [
    "agg = nn.MeanAggregation()"
   ]
  },
  {
   "cell_type": "code",
   "execution_count": 186,
   "id": "d054033b",
   "metadata": {},
   "outputs": [],
   "source": [
    "output_transform = nn.UnscaleTransform.from_standard_scaler(scaler)\n",
    "ffn = nn.RegressionFFN(\n",
    "    input_dim=mcmp.output_dim,\n",
    "    output_transform=output_transform,\n",
    ")"
   ]
  },
  {
   "cell_type": "code",
   "execution_count": 187,
   "id": "7254cfdd",
   "metadata": {},
   "outputs": [],
   "source": [
    "metric_list = [metrics.RMSE(), metrics.MAE()] # Only the first metric is used for training and early stopping"
   ]
  },
  {
   "cell_type": "code",
   "execution_count": 188,
   "id": "f3f5bc67",
   "metadata": {},
   "outputs": [
    {
     "data": {
      "text/plain": [
       "MulticomponentMPNN(\n",
       "  (message_passing): MulticomponentMessagePassing(\n",
       "    (blocks): ModuleList(\n",
       "      (0-1): 2 x BondMessagePassing(\n",
       "        (W_i): Linear(in_features=86, out_features=300, bias=False)\n",
       "        (W_h): Linear(in_features=300, out_features=300, bias=False)\n",
       "        (W_o): Linear(in_features=372, out_features=300, bias=True)\n",
       "        (dropout): Dropout(p=0.0, inplace=False)\n",
       "        (tau): ReLU()\n",
       "        (V_d_transform): Identity()\n",
       "        (graph_transform): Identity()\n",
       "      )\n",
       "    )\n",
       "  )\n",
       "  (agg): MeanAggregation()\n",
       "  (bn): Identity()\n",
       "  (predictor): RegressionFFN(\n",
       "    (ffn): MLP(\n",
       "      (0): Sequential(\n",
       "        (0): Linear(in_features=600, out_features=300, bias=True)\n",
       "      )\n",
       "      (1): Sequential(\n",
       "        (0): ReLU()\n",
       "        (1): Dropout(p=0.0, inplace=False)\n",
       "        (2): Linear(in_features=300, out_features=1, bias=True)\n",
       "      )\n",
       "    )\n",
       "    (criterion): MSE(task_weights=[[1.0]])\n",
       "    (output_transform): UnscaleTransform()\n",
       "  )\n",
       "  (X_d_transform): Identity()\n",
       "  (metrics): ModuleList(\n",
       "    (0): RMSE(task_weights=[[1.0]])\n",
       "    (1): MAE(task_weights=[[1.0]])\n",
       "    (2): MSE(task_weights=[[1.0]])\n",
       "  )\n",
       ")"
      ]
     },
     "execution_count": 188,
     "metadata": {},
     "output_type": "execute_result"
    }
   ],
   "source": [
    "mcmpnn = multi.MulticomponentMPNN(\n",
    "    mcmp,\n",
    "    agg,\n",
    "    ffn,\n",
    "    metrics=metric_list,\n",
    ")\n",
    "\n",
    "mcmpnn"
   ]
  },
  {
   "cell_type": "code",
   "execution_count": 189,
   "id": "6c531b01",
   "metadata": {},
   "outputs": [
    {
     "name": "stderr",
     "output_type": "stream",
     "text": [
      "💡 Tip: For seamless cloud uploads and versioning, try installing [litmodels](https://pypi.org/project/litmodels/) to enable LitModelCheckpoint, which syncs automatically with the Lightning model registry.\n",
      "GPU available: True (mps), used: True\n",
      "TPU available: False, using: 0 TPU cores\n",
      "HPU available: False, using: 0 HPUs\n"
     ]
    }
   ],
   "source": [
    "trainer = pl.Trainer(\n",
    "    logger=False,\n",
    "    enable_checkpointing=True,\n",
    "    enable_progress_bar=True,\n",
    "    accelerator=\"auto\",\n",
    "    devices=1,\n",
    "    max_epochs=20, # number of epochs to train for\n",
    ")"
   ]
  },
  {
   "cell_type": "code",
   "execution_count": 190,
   "id": "64053280",
   "metadata": {},
   "outputs": [
    {
     "name": "stderr",
     "output_type": "stream",
     "text": [
      "/Users/kerrinjanssen/anaconda3/envs/chemprop/lib/python3.11/site-packages/lightning/pytorch/callbacks/model_checkpoint.py:658: Checkpoint directory /Users/kerrinjanssen/Nextcloud/PhD/Bayer/XAI/mlr-xai/notebooks/checkpoints exists and is not empty.\n",
      "Loading `train_dataloader` to estimate number of stepping batches.\n",
      "/Users/kerrinjanssen/anaconda3/envs/chemprop/lib/python3.11/site-packages/lightning/pytorch/trainer/connectors/data_connector.py:425: The 'train_dataloader' does not have many workers which may be a bottleneck. Consider increasing the value of the `num_workers` argument` to `num_workers=7` in the `DataLoader` to improve performance.\n",
      "\n",
      "  | Name            | Type                         | Params | Mode \n",
      "-------------------------------------------------------------------------\n",
      "0 | message_passing | MulticomponentMessagePassing | 455 K  | train\n",
      "1 | agg             | MeanAggregation              | 0      | train\n",
      "2 | bn              | Identity                     | 0      | train\n",
      "3 | predictor       | RegressionFFN                | 180 K  | train\n",
      "4 | X_d_transform   | Identity                     | 0      | train\n",
      "5 | metrics         | ModuleList                   | 0      | train\n",
      "-------------------------------------------------------------------------\n",
      "636 K     Trainable params\n",
      "0         Non-trainable params\n",
      "636 K     Total params\n",
      "2.544     Total estimated model params size (MB)\n",
      "35        Modules in train mode\n",
      "0         Modules in eval mode\n"
     ]
    },
    {
     "name": "stdout",
     "output_type": "stream",
     "text": [
      "Sanity Checking DataLoader 0:   0%|          | 0/1 [00:00<?, ?it/s]"
     ]
    },
    {
     "name": "stderr",
     "output_type": "stream",
     "text": [
      "/Users/kerrinjanssen/anaconda3/envs/chemprop/lib/python3.11/site-packages/lightning/pytorch/trainer/connectors/data_connector.py:425: The 'val_dataloader' does not have many workers which may be a bottleneck. Consider increasing the value of the `num_workers` argument` to `num_workers=7` in the `DataLoader` to improve performance.\n"
     ]
    },
    {
     "name": "stdout",
     "output_type": "stream",
     "text": [
      "Epoch 19: 100%|██████████| 2/2 [00:00<00:00,  2.51it/s, train_loss_step=0.514, val_loss=0.408, train_loss_epoch=0.704]"
     ]
    },
    {
     "name": "stderr",
     "output_type": "stream",
     "text": [
      "`Trainer.fit` stopped: `max_epochs=20` reached.\n"
     ]
    },
    {
     "name": "stdout",
     "output_type": "stream",
     "text": [
      "Epoch 19: 100%|██████████| 2/2 [00:00<00:00,  2.43it/s, train_loss_step=0.514, val_loss=0.408, train_loss_epoch=0.704]\n"
     ]
    }
   ],
   "source": [
    "trainer.fit(mcmpnn, train_loader, val_loader)"
   ]
  },
  {
   "cell_type": "code",
   "execution_count": 191,
   "id": "dd210905",
   "metadata": {},
   "outputs": [
    {
     "name": "stderr",
     "output_type": "stream",
     "text": [
      "/Users/kerrinjanssen/anaconda3/envs/chemprop/lib/python3.11/site-packages/lightning/pytorch/trainer/connectors/data_connector.py:425: The 'test_dataloader' does not have many workers which may be a bottleneck. Consider increasing the value of the `num_workers` argument` to `num_workers=7` in the `DataLoader` to improve performance.\n"
     ]
    },
    {
     "name": "stdout",
     "output_type": "stream",
     "text": [
      "Testing DataLoader 0: 100%|██████████| 1/1 [00:00<00:00,  3.56it/s]\n"
     ]
    },
    {
     "data": {
      "text/html": [
       "<pre style=\"white-space:pre;overflow-x:auto;line-height:normal;font-family:Menlo,'DejaVu Sans Mono',consolas,'Courier New',monospace\">┏━━━━━━━━━━━━━━━━━━━━━━━━━━━┳━━━━━━━━━━━━━━━━━━━━━━━━━━━┓\n",
       "┃<span style=\"font-weight: bold\">        Test metric        </span>┃<span style=\"font-weight: bold\">       DataLoader 0        </span>┃\n",
       "┡━━━━━━━━━━━━━━━━━━━━━━━━━━━╇━━━━━━━━━━━━━━━━━━━━━━━━━━━┩\n",
       "│<span style=\"color: #008080; text-decoration-color: #008080\">         test/mae          </span>│<span style=\"color: #800080; text-decoration-color: #800080\">     86.81767272949219     </span>│\n",
       "│<span style=\"color: #008080; text-decoration-color: #008080\">         test/rmse         </span>│<span style=\"color: #800080; text-decoration-color: #800080\">     96.21236419677734     </span>│\n",
       "└───────────────────────────┴───────────────────────────┘\n",
       "</pre>\n"
      ],
      "text/plain": [
       "┏━━━━━━━━━━━━━━━━━━━━━━━━━━━┳━━━━━━━━━━━━━━━━━━━━━━━━━━━┓\n",
       "┃\u001b[1m \u001b[0m\u001b[1m       Test metric       \u001b[0m\u001b[1m \u001b[0m┃\u001b[1m \u001b[0m\u001b[1m      DataLoader 0       \u001b[0m\u001b[1m \u001b[0m┃\n",
       "┡━━━━━━━━━━━━━━━━━━━━━━━━━━━╇━━━━━━━━━━━━━━━━━━━━━━━━━━━┩\n",
       "│\u001b[36m \u001b[0m\u001b[36m        test/mae         \u001b[0m\u001b[36m \u001b[0m│\u001b[35m \u001b[0m\u001b[35m    86.81767272949219    \u001b[0m\u001b[35m \u001b[0m│\n",
       "│\u001b[36m \u001b[0m\u001b[36m        test/rmse        \u001b[0m\u001b[36m \u001b[0m│\u001b[35m \u001b[0m\u001b[35m    96.21236419677734    \u001b[0m\u001b[35m \u001b[0m│\n",
       "└───────────────────────────┴───────────────────────────┘\n"
      ]
     },
     "metadata": {},
     "output_type": "display_data"
    }
   ],
   "source": [
    "results = trainer.test(mcmpnn, test_loader)"
   ]
  },
  {
   "cell_type": "code",
   "execution_count": null,
   "id": "9f924742",
   "metadata": {},
   "outputs": [],
   "source": []
  }
 ],
 "metadata": {
  "kernelspec": {
   "display_name": "bayer",
   "language": "python",
   "name": "python3"
  },
  "language_info": {
   "codemirror_mode": {
    "name": "ipython",
    "version": 3
   },
   "file_extension": ".py",
   "mimetype": "text/x-python",
   "name": "python",
   "nbconvert_exporter": "python",
   "pygments_lexer": "ipython3",
   "version": "3.11.11"
  }
 },
 "nbformat": 4,
 "nbformat_minor": 5
}
